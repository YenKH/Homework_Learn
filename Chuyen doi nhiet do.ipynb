{
 "cells": [
  {
   "cell_type": "code",
   "execution_count": 4,
   "id": "6342ffc3",
   "metadata": {},
   "outputs": [
    {
     "name": "stdout",
     "output_type": "stream",
     "text": [
      "Nhập giá trị nhiệt độ muốn chuyển đổi (độ C): 5\n",
      " 5.0 độ C tương ứng với 41.0 độ F\n"
     ]
    }
   ],
   "source": [
    "c = float(input('Nhập giá trị nhiệt độ muốn chuyển đổi (độ C): '))\n",
    "f = c*1.8+32\n",
    "print (f' {c} độ C tương ứng với {f} độ F')"
   ]
  },
  {
   "cell_type": "code",
   "execution_count": null,
   "id": "7f3d3c4e",
   "metadata": {},
   "outputs": [],
   "source": []
  }
 ],
 "metadata": {
  "kernelspec": {
   "display_name": "Python 3 (ipykernel)",
   "language": "python",
   "name": "python3"
  },
  "language_info": {
   "codemirror_mode": {
    "name": "ipython",
    "version": 3
   },
   "file_extension": ".py",
   "mimetype": "text/x-python",
   "name": "python",
   "nbconvert_exporter": "python",
   "pygments_lexer": "ipython3",
   "version": "3.9.13"
  }
 },
 "nbformat": 4,
 "nbformat_minor": 5
}
