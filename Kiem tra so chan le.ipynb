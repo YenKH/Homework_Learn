{
 "cells": [
  {
   "cell_type": "code",
   "execution_count": 5,
   "id": "2a271016",
   "metadata": {},
   "outputs": [
    {
     "name": "stdout",
     "output_type": "stream",
     "text": [
      "num_check = ?\n",
      "Nhập một số nguyên bất kỳ: 12\n",
      "Số chẵn\n"
     ]
    }
   ],
   "source": [
    "print ('num_check = ?')\n",
    "a= int(input('Nhập một số nguyên bất kỳ: '))\n",
    "if a%2==0:\n",
    "    print ('Số chẵn')\n",
    "else :\n",
    "    print ('Số lẻ')"
   ]
  },
  {
   "cell_type": "code",
   "execution_count": null,
   "id": "49e46f4a",
   "metadata": {},
   "outputs": [],
   "source": []
  },
  {
   "cell_type": "code",
   "execution_count": null,
   "id": "ad78d201",
   "metadata": {},
   "outputs": [],
   "source": []
  }
 ],
 "metadata": {
  "kernelspec": {
   "display_name": "Python 3 (ipykernel)",
   "language": "python",
   "name": "python3"
  },
  "language_info": {
   "codemirror_mode": {
    "name": "ipython",
    "version": 3
   },
   "file_extension": ".py",
   "mimetype": "text/x-python",
   "name": "python",
   "nbconvert_exporter": "python",
   "pygments_lexer": "ipython3",
   "version": "3.9.13"
  }
 },
 "nbformat": 4,
 "nbformat_minor": 5
}
