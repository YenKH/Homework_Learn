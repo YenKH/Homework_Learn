{
 "cells": [
  {
   "cell_type": "code",
   "execution_count": 1,
   "id": "45fbfca4-74c6-4d16-a270-cc35337ef757",
   "metadata": {},
   "outputs": [
    {
     "name": "stdin",
     "output_type": "stream",
     "text": [
      "Nhập N:  13\n"
     ]
    },
    {
     "name": "stdout",
     "output_type": "stream",
     "text": [
      "13 là số nguyên tố\n"
     ]
    }
   ],
   "source": [
    "n = int(input('Nhập N: '))\n",
    "is_prime = True\n",
    "for i in range (2,n//2+1,1) :\n",
    "    if n%i==0:\n",
    "        is_prime = False\n",
    "        break\n",
    "if is_prime :\n",
    "    print (f'{n} là số nguyên tố')\n",
    "else: \n",
    "    print (f'{n} không là số nguyên tố')"
   ]
  },
  {
   "cell_type": "code",
   "execution_count": 22,
   "id": "5a2477b4-c357-4c51-9caf-0108aa1979b9",
   "metadata": {},
   "outputs": [],
   "source": [
    "def tinhNgay (month,year):\n",
    "    if month ==2 :\n",
    "        if (year%4==0 and year%100!=0) or year%400==0:\n",
    "            day = 29\n",
    "        else:\n",
    "            day = 28\n",
    "    elif month in [1,3,5,7,8,10,12]:\n",
    "        day=31\n",
    "    elif month in [4,6,9,11]:\n",
    "        day = 30 \n",
    "    return day        \n"
   ]
  },
  {
   "cell_type": "code",
   "execution_count": 30,
   "id": "8ef71344-e63b-4ed6-ae5e-a9643a807009",
   "metadata": {},
   "outputs": [
    {
     "name": "stdout",
     "output_type": "stream",
     "text": [
      "31\n"
     ]
    }
   ],
   "source": [
    "\n",
    "print (tinhNgay(5,2023))\n"
   ]
  },
  {
   "cell_type": "code",
   "execution_count": 28,
   "id": "36dbd35b-6ac0-4468-a824-ee69681f98d7",
   "metadata": {},
   "outputs": [
    {
     "name": "stdin",
     "output_type": "stream",
     "text": [
      "Nhập năm:  2023\n",
      "Nhập tháng:  6\n"
     ]
    },
    {
     "ename": "UnboundLocalError",
     "evalue": "local variable 'day' referenced before assignment",
     "output_type": "error",
     "traceback": [
      "\u001b[0;31m---------------------------------------------------------------------------\u001b[0m",
      "\u001b[0;31mUnboundLocalError\u001b[0m                         Traceback (most recent call last)",
      "Input \u001b[0;32mIn [28]\u001b[0m, in \u001b[0;36m<cell line: 5>\u001b[0;34m()\u001b[0m\n\u001b[1;32m      6\u001b[0m     \u001b[38;5;28mprint\u001b[39m (\u001b[38;5;124m'\u001b[39m\u001b[38;5;124mNhập sai tháng\u001b[39m\u001b[38;5;124m'\u001b[39m)\n\u001b[1;32m      7\u001b[0m \u001b[38;5;28;01melse\u001b[39;00m:\n\u001b[0;32m----> 8\u001b[0m     weekays \u001b[38;5;241m=\u001b[39m \u001b[43mtinhNgay\u001b[49m\u001b[43m(\u001b[49m\u001b[43mmonth\u001b[49m\u001b[43m,\u001b[49m\u001b[43m \u001b[49m\u001b[43myear\u001b[49m\u001b[43m)\u001b[49m\n\u001b[1;32m      9\u001b[0m     \u001b[38;5;28;01mfor\u001b[39;00m i \u001b[38;5;129;01min\u001b[39;00m \u001b[38;5;28mrange\u001b[39m (\u001b[38;5;241m1\u001b[39m, \u001b[38;5;28mint\u001b[39m(weekdays)\u001b[38;5;241m+\u001b[39m\u001b[38;5;241m1\u001b[39m , \u001b[38;5;241m1\u001b[39m):\n\u001b[1;32m     10\u001b[0m         myDate\u001b[38;5;241m=\u001b[39mdatetime\u001b[38;5;241m.\u001b[39mdate(year, month, i)\n",
      "Input \u001b[0;32mIn [22]\u001b[0m, in \u001b[0;36mtinhNgay\u001b[0;34m(month, year)\u001b[0m\n\u001b[1;32m      9\u001b[0m \u001b[38;5;28;01melif\u001b[39;00m month \u001b[38;5;129;01min\u001b[39;00m [\u001b[38;5;241m4\u001b[39m,\u001b[38;5;241m6\u001b[39m,\u001b[38;5;241m9\u001b[39m,\u001b[38;5;241m11\u001b[39m]:\n\u001b[1;32m     10\u001b[0m     day \u001b[38;5;241m=\u001b[39m \u001b[38;5;241m30\u001b[39m \n\u001b[0;32m---> 11\u001b[0m \u001b[38;5;28;01mreturn\u001b[39;00m \u001b[43mday\u001b[49m\n",
      "\u001b[0;31mUnboundLocalError\u001b[0m: local variable 'day' referenced before assignment"
     ]
    }
   ],
   "source": [
    "import datetime\n",
    "year = input('Nhập năm: ')\n",
    "month = input ('Nhập tháng: ')\n",
    "text = ''\n",
    "if int(month) > 12 or int(month) <1 :\n",
    "    print ('Nhập sai tháng')\n",
    "else:\n",
    "    weekays = tinhNgay(month, year)\n",
    "    for i in range (1, int(weekdays)+1 , 1):\n",
    "        myDate=datetime.date(year, month, i)\n",
    "        wd = myDate.weekday()\n",
    "        text += str(wd)\n",
    "        if wd ==6:\n",
    "            text +=''\n",
    "    weeks = text.split()\n",
    "    even_week = 0\n",
    "    odd_week = 0\n",
    "    for w in weeks:\n",
    "        if len(w) ==7:\n",
    "            even_week +=1\n",
    "        else:\n",
    "            odd_week +=1\n",
    "    print (f'Số tuần chẵn : {even_week}')\n",
    "    print (f'Số tuần chẵn : {odd_week}')"
   ]
  },
  {
   "cell_type": "code",
   "execution_count": null,
   "id": "0c6971dd-74ce-473f-9ea7-09e33b633eb4",
   "metadata": {},
   "outputs": [],
   "source": []
  },
  {
   "cell_type": "code",
   "execution_count": 14,
   "id": "2e41869c-10d2-47c5-8c79-909a6d05a8cd",
   "metadata": {},
   "outputs": [],
   "source": [
    "def weekAnalys(month, year):\n",
    "    import datetime\n",
    "    year = input('Nhập năm: ')\n",
    "    month = input ('Nhập tháng: ')\n",
    "    day = tinhNgay(month, year)\n",
    "    text = ''\n",
    "    for i in range (1, day+1 , 1):\n",
    "        myDate=datetime.date(year, month, i)\n",
    "        wd = myDate.weekday()\n",
    "        text += str(wd)\n",
    "        if wd ==6:\n",
    "            text +=''\n",
    "    weeks = text.split()\n",
    "    even_week = 0\n",
    "    odd_week = 0\n",
    "    for w in weeks:\n",
    "        if len(w) ==7:\n",
    "            even_week +=1\n",
    "        else:\n",
    "            odd_week +=1\n",
    "    return even_week + odd_week ,even_week, odd_week\n"
   ]
  },
  {
   "cell_type": "code",
   "execution_count": 16,
   "id": "2572c31e-d473-48d8-97ee-452f1f327d6f",
   "metadata": {},
   "outputs": [
    {
     "name": "stdin",
     "output_type": "stream",
     "text": [
      "Nhập năm:  2023\n",
      "Nhập tháng:  6\n"
     ]
    },
    {
     "ename": "TypeError",
     "evalue": "can only concatenate str (not \"int\") to str",
     "output_type": "error",
     "traceback": [
      "\u001b[0;31m---------------------------------------------------------------------------\u001b[0m",
      "\u001b[0;31mTypeError\u001b[0m                                 Traceback (most recent call last)",
      "Input \u001b[0;32mIn [16]\u001b[0m, in \u001b[0;36m<cell line: 1>\u001b[0;34m()\u001b[0m\n\u001b[0;32m----> 1\u001b[0m \u001b[38;5;28mprint\u001b[39m (\u001b[43mweekAnalys\u001b[49m\u001b[43m \u001b[49m\u001b[43m(\u001b[49m\u001b[38;5;241;43m3\u001b[39;49m\u001b[43m,\u001b[49m\u001b[43m \u001b[49m\u001b[38;5;241;43m2023\u001b[39;49m\u001b[43m)\u001b[49m)\n",
      "Input \u001b[0;32mIn [14]\u001b[0m, in \u001b[0;36mweekAnalys\u001b[0;34m(month, year)\u001b[0m\n\u001b[1;32m      5\u001b[0m day \u001b[38;5;241m=\u001b[39m tinhNgay(month, year)\n\u001b[1;32m      6\u001b[0m text \u001b[38;5;241m=\u001b[39m \u001b[38;5;124m'\u001b[39m\u001b[38;5;124m'\u001b[39m\n\u001b[0;32m----> 7\u001b[0m \u001b[38;5;28;01mfor\u001b[39;00m i \u001b[38;5;129;01min\u001b[39;00m \u001b[38;5;28mrange\u001b[39m (\u001b[38;5;241m1\u001b[39m, \u001b[43mday\u001b[49m\u001b[38;5;241;43m+\u001b[39;49m\u001b[38;5;241;43m1\u001b[39;49m , \u001b[38;5;241m1\u001b[39m):\n\u001b[1;32m      8\u001b[0m     myDate\u001b[38;5;241m=\u001b[39mdatetime\u001b[38;5;241m.\u001b[39mdate(year, month, i)\n\u001b[1;32m      9\u001b[0m     wd \u001b[38;5;241m=\u001b[39m myDate\u001b[38;5;241m.\u001b[39mweekday()\n",
      "\u001b[0;31mTypeError\u001b[0m: can only concatenate str (not \"int\") to str"
     ]
    }
   ],
   "source": [
    "print (weekAnalys (3, 2023))"
   ]
  },
  {
   "cell_type": "code",
   "execution_count": null,
   "id": "4d7454e8-56c3-4344-b4bd-2e157ab99bd9",
   "metadata": {},
   "outputs": [],
   "source": []
  }
 ],
 "metadata": {
  "kernelspec": {
   "display_name": "anaconda-2022.05-py39",
   "language": "python",
   "name": "conda-env-anaconda-2022.05-py39-py"
  },
  "language_info": {
   "codemirror_mode": {
    "name": "ipython",
    "version": 3
   },
   "file_extension": ".py",
   "mimetype": "text/x-python",
   "name": "python",
   "nbconvert_exporter": "python",
   "pygments_lexer": "ipython3",
   "version": "3.9.12"
  }
 },
 "nbformat": 4,
 "nbformat_minor": 5
}
