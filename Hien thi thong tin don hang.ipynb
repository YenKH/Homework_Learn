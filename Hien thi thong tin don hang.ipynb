{
 "cells": [
  {
   "cell_type": "code",
   "execution_count": 7,
   "id": "7cef9ac6",
   "metadata": {},
   "outputs": [
    {
     "name": "stdout",
     "output_type": "stream",
     "text": [
      "Bạn đã chi tiêu bao nhiêu tại cửa hàng? 1712\n",
      "Số tiền cần thanh toán:  1662\n"
     ]
    }
   ],
   "source": [
    "exp = int(input(\"Bạn đã chi tiêu bao nhiêu tại cửa hàng? \"))\n",
    "if exp >= 150:\n",
    "    print(\"Số tiền cần thanh toán: \", exp - 50)\n",
    "elif exp >= 100:\n",
    "    print(\"Số tiền cần thanh toán: \", exp - 25)\n",
    "elif exp >= 75:\n",
    "    print(\"Số tiền cần thanh toán: \", exp - 15)\n",
    "else:\n",
    "    print(\"Số tiền cần thanh toán: \", exp)"
   ]
  },
  {
   "cell_type": "code",
   "execution_count": null,
   "id": "8e51ee9e",
   "metadata": {},
   "outputs": [],
   "source": []
  },
  {
   "cell_type": "code",
   "execution_count": null,
   "id": "78875eb3",
   "metadata": {},
   "outputs": [],
   "source": []
  }
 ],
 "metadata": {
  "kernelspec": {
   "display_name": "Python 3 (ipykernel)",
   "language": "python",
   "name": "python3"
  },
  "language_info": {
   "codemirror_mode": {
    "name": "ipython",
    "version": 3
   },
   "file_extension": ".py",
   "mimetype": "text/x-python",
   "name": "python",
   "nbconvert_exporter": "python",
   "pygments_lexer": "ipython3",
   "version": "3.9.13"
  }
 },
 "nbformat": 4,
 "nbformat_minor": 5
}
