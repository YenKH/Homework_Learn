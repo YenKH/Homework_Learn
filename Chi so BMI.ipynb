{
 "cells": [
  {
   "cell_type": "code",
   "execution_count": 3,
   "id": "c3cdf93c",
   "metadata": {},
   "outputs": [
    {
     "name": "stdout",
     "output_type": "stream",
     "text": [
      " Nhập vào cân nặng của bạn (đv: kg): 70\n",
      "Nhập chiều cao của bạn (đv: m)1.70\n",
      "Chỉ số BMI của bạn: 24.221453287197235\n",
      "Bình thường\n"
     ]
    }
   ],
   "source": [
    "weight = float(input(' Nhập vào cân nặng của bạn (đv: kg): '))\n",
    "height = float(input('Nhập chiều cao của bạn (đv: m)'))\n",
    "BMI = weight/(height**2)\n",
    "print (f'Chỉ số BMI của bạn: {BMI}')\n",
    "if BMI <16 :\n",
    "    print ('Gầy cấp độ III')\n",
    "elif BMI < 17 :\n",
    "    print ('Gầy cấp độ II')\n",
    "elif BMI < 18.5:\n",
    "    print ('Gầy cấp độ I')\n",
    "elif BMI < 25:\n",
    "    print ('Bình thường')\n",
    "elif BMI < 30 :\n",
    "    print ('Thừa cân')\n",
    "elif BMI < 35:\n",
    "    print ('Béo phì cấp độ I')\n",
    "elif BMI < 40:\n",
    "    print ('Béo phì cấp độ II')\n",
    "else:\n",
    "    print ('Béo phì cấp độ III')"
   ]
  },
  {
   "cell_type": "code",
   "execution_count": null,
   "id": "3f07e685",
   "metadata": {},
   "outputs": [],
   "source": []
  },
  {
   "cell_type": "code",
   "execution_count": null,
   "id": "f2d2aafd",
   "metadata": {},
   "outputs": [],
   "source": []
  }
 ],
 "metadata": {
  "kernelspec": {
   "display_name": "Python 3 (ipykernel)",
   "language": "python",
   "name": "python3"
  },
  "language_info": {
   "codemirror_mode": {
    "name": "ipython",
    "version": 3
   },
   "file_extension": ".py",
   "mimetype": "text/x-python",
   "name": "python",
   "nbconvert_exporter": "python",
   "pygments_lexer": "ipython3",
   "version": "3.9.13"
  }
 },
 "nbformat": 4,
 "nbformat_minor": 5
}
