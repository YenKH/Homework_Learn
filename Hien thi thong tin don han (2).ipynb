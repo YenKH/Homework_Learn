{
 "cells": [
  {
   "cell_type": "code",
   "execution_count": 5,
   "id": "d282148d",
   "metadata": {},
   "outputs": [
    {
     "name": "stdout",
     "output_type": "stream",
     "text": [
      "Bạn đã chi tiêu bao nhiêu tại cửa hàng? 500\n",
      "Total:  450\n"
     ]
    }
   ],
   "source": [
    "exp = int(input(\"Bạn đã chi tiêu bao nhiêu tại cửa hàng? \"))\n",
    "if exp >= 150:\n",
    "    print(\"Total: \", exp - 50)\n",
    "elif exp >= 100:\n",
    "    print(\"Total: \", exp - 25)\n",
    "elif exp >= 75:\n",
    "    print(\"Total: \", exp - 15)\n",
    "else:\n",
    "    print(\"Total: \", exp)"
   ]
  },
  {
   "cell_type": "code",
   "execution_count": null,
   "id": "77b9de35",
   "metadata": {},
   "outputs": [],
   "source": []
  }
 ],
 "metadata": {
  "kernelspec": {
   "display_name": "Python 3 (ipykernel)",
   "language": "python",
   "name": "python3"
  },
  "language_info": {
   "codemirror_mode": {
    "name": "ipython",
    "version": 3
   },
   "file_extension": ".py",
   "mimetype": "text/x-python",
   "name": "python",
   "nbconvert_exporter": "python",
   "pygments_lexer": "ipython3",
   "version": "3.9.13"
  }
 },
 "nbformat": 4,
 "nbformat_minor": 5
}
