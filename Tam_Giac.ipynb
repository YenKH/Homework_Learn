{
  "metadata": {
    "language_info": {
      "codemirror_mode": {
        "name": "python",
        "version": 3
      },
      "file_extension": ".py",
      "mimetype": "text/x-python",
      "name": "python",
      "nbconvert_exporter": "python",
      "pygments_lexer": "ipython3",
      "version": "3.8"
    },
    "kernelspec": {
      "name": "python",
      "display_name": "Python (Pyodide)",
      "language": "python"
    }
  },
  "nbformat_minor": 4,
  "nbformat": 4,
  "cells": [
    {
      "cell_type": "code",
      "source": "a=1\nb=1\nc=2**0.5\nTamGiac= a+b>c and a+c>b and b+c>a\nCan= TamGiac and (a==b or a==c or b==c)\nDeu= a==b==c\nVuong= (a**2+b**2)==c**2 or (a**2+c**2)==b**2 or (b**2+c**2) == a**2\nVuongCan= Vuong and ((a==b) or (a==c) or (b==c))\nprint ('a, b, c là tam giác? ' , TamGiac)\nprint ('a, b, c là tam giác cân? ' , Can)\nprint ('a, b, c là tam giác đều? ' , Deu)\nprint ('a, b, c là tam giác vuông? ' , Vuong)\nprint ('a, b, c là tam giác vuông cân? ' , VuongCan)\nprint(c**2)",
      "metadata": {
        "trusted": true
      },
      "execution_count": 1,
      "outputs": [
        {
          "name": "stdout",
          "text": "a, b, c là tam giác?  True\na, b, c là tam giác cân?  True\na, b, c là tam giác đều?  False\na, b, c là tam giác vuông?  False\na, b, c là tam giác vuông cân?  False\n2.0000000000000004\n",
          "output_type": "stream"
        }
      ]
    },
    {
      "cell_type": "code",
      "source": "",
      "metadata": {},
      "execution_count": null,
      "outputs": []
    }
  ]
}