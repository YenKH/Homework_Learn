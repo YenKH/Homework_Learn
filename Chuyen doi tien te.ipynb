{
 "cells": [
  {
   "cell_type": "code",
   "execution_count": 4,
   "id": "6e1250ea",
   "metadata": {},
   "outputs": [
    {
     "name": "stdout",
     "output_type": "stream",
     "text": [
      "Nhập số tiền USD cần đổi: 612\n",
      "Nhập tỉ giá USD/VND: 23300\n",
      "Số tiền VNĐ : 14259600\n"
     ]
    }
   ],
   "source": [
    "usd = int (input('Nhập số tiền USD cần đổi: '))\n",
    "ex_rate= int (input('Nhập tỉ giá USD/VND: '))\n",
    "print (f'Số tiền VNĐ : {usd*ex_rate}')"
   ]
  },
  {
   "cell_type": "code",
   "execution_count": null,
   "id": "fb3f9b17",
   "metadata": {},
   "outputs": [],
   "source": []
  },
  {
   "cell_type": "code",
   "execution_count": null,
   "id": "ddf87e7e",
   "metadata": {},
   "outputs": [],
   "source": []
  }
 ],
 "metadata": {
  "kernelspec": {
   "display_name": "Python 3 (ipykernel)",
   "language": "python",
   "name": "python3"
  },
  "language_info": {
   "codemirror_mode": {
    "name": "ipython",
    "version": 3
   },
   "file_extension": ".py",
   "mimetype": "text/x-python",
   "name": "python",
   "nbconvert_exporter": "python",
   "pygments_lexer": "ipython3",
   "version": "3.9.13"
  }
 },
 "nbformat": 4,
 "nbformat_minor": 5
}
