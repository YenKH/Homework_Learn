{
  "metadata": {
    "language_info": {
      "codemirror_mode": {
        "name": "python",
        "version": 3
      },
      "file_extension": ".py",
      "mimetype": "text/x-python",
      "name": "python",
      "nbconvert_exporter": "python",
      "pygments_lexer": "ipython3",
      "version": "3.8"
    },
    "kernelspec": {
      "name": "python",
      "display_name": "Python (Pyodide)",
      "language": "python"
    }
  },
  "nbformat_minor": 4,
  "nbformat": 4,
  "cells": [
    {
      "cell_type": "code",
      "source": "print(\"Họ và tên: Hải Yến\")\nprint(\"Ngày sinh: 26/11\")\nprint(\"Địa chỉ: 6 Thái Hà, phường Trung Liệt, quận Đống Đa, TP Hà Nội\")\nprint(\"Mục đích: Phục vụ việc nghiên cứu và phân tích dữ liệu\")",
      "metadata": {
        "trusted": true
      },
      "execution_count": 2,
      "outputs": [
        {
          "name": "stdout",
          "text": "Họ và tên: Hải Yến\nNgày sinh: 26/11\nĐịa chỉ: 6 Thái Hà, phường Trung Liệt, quận Đống Đa, TP Hà Nội\nMục đích: Phục vụ việc nghiên cứu và phân tích dữ liệu\n",
          "output_type": "stream"
        }
      ]
    },
    {
      "cell_type": "code",
      "source": "",
      "metadata": {},
      "execution_count": null,
      "outputs": []
    }
  ]
}