{
 "cells": [
  {
   "cell_type": "code",
   "execution_count": 15,
   "id": "5a22cf5d",
   "metadata": {},
   "outputs": [
    {
     "name": "stdout",
     "output_type": "stream",
     "text": [
      "Nhập số nguyên thứ nhất bất kỳ: 10\n",
      "Nhập số nguyên thứ hai bất kỳ: 1\n",
      "1\n",
      "2\n",
      "Fizz\n",
      "4\n",
      "Buzz\n",
      "Fizz\n",
      "7\n",
      "8\n",
      "Fizz\n",
      "Buzz\n"
     ]
    }
   ],
   "source": [
    "a = int (input('Nhập số nguyên thứ nhất bất kỳ: '))\n",
    "b = int (input('Nhập số nguyên thứ hai bất kỳ: '))\n",
    "while a==b :\n",
    "    print ('''Vui lòng nhập lại...\n",
    "    Số thứ nhất và số thứ hai cần khác nhau...''')\n",
    "    a = int (input('Nhập số nguyên thứ nhất: '))\n",
    "    b = int (input('Nhập số nguyên thứ hai: '))\n",
    "min = a if a < b else b\n",
    "max = a if a>b else b\n",
    "for i in range (min, max +1) :\n",
    "    if i%3==0 and i%5==0:\n",
    "        print ('Fizz Buzz')\n",
    "    elif i%3==0:\n",
    "        print ('Fizz')\n",
    "    elif i%5==0:\n",
    "        print ('Buzz')\n",
    "    else: \n",
    "        print (i)\n",
    "               "
   ]
  },
  {
   "cell_type": "code",
   "execution_count": null,
   "id": "6a6dce92",
   "metadata": {},
   "outputs": [],
   "source": []
  },
  {
   "cell_type": "code",
   "execution_count": null,
   "id": "4aa9970f",
   "metadata": {},
   "outputs": [],
   "source": []
  }
 ],
 "metadata": {
  "kernelspec": {
   "display_name": "Python 3 (ipykernel)",
   "language": "python",
   "name": "python3"
  },
  "language_info": {
   "codemirror_mode": {
    "name": "ipython",
    "version": 3
   },
   "file_extension": ".py",
   "mimetype": "text/x-python",
   "name": "python",
   "nbconvert_exporter": "python",
   "pygments_lexer": "ipython3",
   "version": "3.9.13"
  }
 },
 "nbformat": 4,
 "nbformat_minor": 5
}
