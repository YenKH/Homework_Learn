{
 "cells": [
  {
   "cell_type": "markdown",
   "id": "6ec2b352",
   "metadata": {},
   "source": [
    "# CASE STUDY \n",
    "\n",
    "PHÂN TÍCH CÁC NHÂN TỐ ẢNH HƯỞNG TỚI GIÁ XE HƠI\n",
    "\n",
    "Mô tả bài toán\n",
    "Công ty ô tô Geely Auto của Trung Quốc muốn gia nhập thị trường Mỹ bằng cách thành lập\n",
    "nhà máy sản xuất của họ ở Mỹ để tạo sức cạnh tranh với các đối thủ Mỹ và Châu âu tại thị\n",
    "trường Mỹ. Công ty Geely Auto đã ký hợp đồng với một công ty tư vấn ôtô để tìm hiểu các\n",
    "yếu tác động tới giá ô tô. Cụ thể họ muốn tìm hiểu các đặc điểm của một chiếc xe sẽ ảnh\n",
    "hưởng tới việc định giá ô tô tại thị trường Mỹ, vì có thể thị hiếu của người tiêu dùng Mỹ có\n",
    "điểm khác biệt so với người tiêu dùng ở Trung quốc. Công ty muốn biết:\n",
    "\n",
    "- Có những thuộc tính nào có ý nghĩa trong việc định giá của một chiếc xe hơi\n",
    "- Các thuộc tính đó có liên hệ với giá xe như thế nào\n",
    "\n",
    "Dựa trên các cuộc khảo sát thị trường, công ty tư vấn đã thu thập một tập dữ liệu về các loại ô tô khác nhau trên thị trường Mỹ để phân tích."
   ]
  },
  {
   "cell_type": "code",
   "execution_count": 1,
   "id": "90bec0ce",
   "metadata": {},
   "outputs": [],
   "source": [
    "import pandas as pd\n",
    "import numpy as np\n",
    "import statsmodels.api as sm\n",
    "import seaborn as sns\n",
    "from scipy.stats import pearsonr\n",
    "from math import sqrt"
   ]
  },
  {
   "cell_type": "markdown",
   "id": "e301130f",
   "metadata": {},
   "source": [
    "## 1. Đọc dữ liệu"
   ]
  },
  {
   "cell_type": "code",
   "execution_count": 2,
   "id": "96ebc298",
   "metadata": {},
   "outputs": [
    {
     "data": {
      "text/html": [
       "<div>\n",
       "<style scoped>\n",
       "    .dataframe tbody tr th:only-of-type {\n",
       "        vertical-align: middle;\n",
       "    }\n",
       "\n",
       "    .dataframe tbody tr th {\n",
       "        vertical-align: top;\n",
       "    }\n",
       "\n",
       "    .dataframe thead th {\n",
       "        text-align: right;\n",
       "    }\n",
       "</style>\n",
       "<table border=\"1\" class=\"dataframe\">\n",
       "  <thead>\n",
       "    <tr style=\"text-align: right;\">\n",
       "      <th></th>\n",
       "      <th>car_ID</th>\n",
       "      <th>symboling</th>\n",
       "      <th>CarName</th>\n",
       "      <th>fueltype</th>\n",
       "      <th>aspiration</th>\n",
       "      <th>doornumber</th>\n",
       "      <th>carbody</th>\n",
       "      <th>drivewheel</th>\n",
       "      <th>enginelocation</th>\n",
       "      <th>wheelbase</th>\n",
       "      <th>...</th>\n",
       "      <th>enginesize</th>\n",
       "      <th>fuelsystem</th>\n",
       "      <th>boreratio</th>\n",
       "      <th>stroke</th>\n",
       "      <th>compressionratio</th>\n",
       "      <th>horsepower</th>\n",
       "      <th>peakrpm</th>\n",
       "      <th>citympg</th>\n",
       "      <th>highwaympg</th>\n",
       "      <th>price</th>\n",
       "    </tr>\n",
       "  </thead>\n",
       "  <tbody>\n",
       "    <tr>\n",
       "      <th>0</th>\n",
       "      <td>1</td>\n",
       "      <td>3</td>\n",
       "      <td>alfa-romero giulia</td>\n",
       "      <td>gas</td>\n",
       "      <td>std</td>\n",
       "      <td>two</td>\n",
       "      <td>convertible</td>\n",
       "      <td>rwd</td>\n",
       "      <td>front</td>\n",
       "      <td>88.6</td>\n",
       "      <td>...</td>\n",
       "      <td>130</td>\n",
       "      <td>mpfi</td>\n",
       "      <td>3.47</td>\n",
       "      <td>2.68</td>\n",
       "      <td>9.0</td>\n",
       "      <td>111</td>\n",
       "      <td>5000</td>\n",
       "      <td>21</td>\n",
       "      <td>27</td>\n",
       "      <td>13495.0</td>\n",
       "    </tr>\n",
       "    <tr>\n",
       "      <th>1</th>\n",
       "      <td>2</td>\n",
       "      <td>3</td>\n",
       "      <td>alfa-romero stelvio</td>\n",
       "      <td>gas</td>\n",
       "      <td>std</td>\n",
       "      <td>two</td>\n",
       "      <td>convertible</td>\n",
       "      <td>rwd</td>\n",
       "      <td>front</td>\n",
       "      <td>88.6</td>\n",
       "      <td>...</td>\n",
       "      <td>130</td>\n",
       "      <td>mpfi</td>\n",
       "      <td>3.47</td>\n",
       "      <td>2.68</td>\n",
       "      <td>9.0</td>\n",
       "      <td>111</td>\n",
       "      <td>5000</td>\n",
       "      <td>21</td>\n",
       "      <td>27</td>\n",
       "      <td>16500.0</td>\n",
       "    </tr>\n",
       "    <tr>\n",
       "      <th>2</th>\n",
       "      <td>3</td>\n",
       "      <td>1</td>\n",
       "      <td>alfa-romero Quadrifoglio</td>\n",
       "      <td>gas</td>\n",
       "      <td>std</td>\n",
       "      <td>two</td>\n",
       "      <td>hatchback</td>\n",
       "      <td>rwd</td>\n",
       "      <td>front</td>\n",
       "      <td>94.5</td>\n",
       "      <td>...</td>\n",
       "      <td>152</td>\n",
       "      <td>mpfi</td>\n",
       "      <td>2.68</td>\n",
       "      <td>3.47</td>\n",
       "      <td>9.0</td>\n",
       "      <td>154</td>\n",
       "      <td>5000</td>\n",
       "      <td>19</td>\n",
       "      <td>26</td>\n",
       "      <td>16500.0</td>\n",
       "    </tr>\n",
       "    <tr>\n",
       "      <th>3</th>\n",
       "      <td>4</td>\n",
       "      <td>2</td>\n",
       "      <td>audi 100 ls</td>\n",
       "      <td>gas</td>\n",
       "      <td>std</td>\n",
       "      <td>four</td>\n",
       "      <td>sedan</td>\n",
       "      <td>fwd</td>\n",
       "      <td>front</td>\n",
       "      <td>99.8</td>\n",
       "      <td>...</td>\n",
       "      <td>109</td>\n",
       "      <td>mpfi</td>\n",
       "      <td>3.19</td>\n",
       "      <td>3.40</td>\n",
       "      <td>10.0</td>\n",
       "      <td>102</td>\n",
       "      <td>5500</td>\n",
       "      <td>24</td>\n",
       "      <td>30</td>\n",
       "      <td>13950.0</td>\n",
       "    </tr>\n",
       "    <tr>\n",
       "      <th>4</th>\n",
       "      <td>5</td>\n",
       "      <td>2</td>\n",
       "      <td>audi 100ls</td>\n",
       "      <td>gas</td>\n",
       "      <td>std</td>\n",
       "      <td>four</td>\n",
       "      <td>sedan</td>\n",
       "      <td>4wd</td>\n",
       "      <td>front</td>\n",
       "      <td>99.4</td>\n",
       "      <td>...</td>\n",
       "      <td>136</td>\n",
       "      <td>mpfi</td>\n",
       "      <td>3.19</td>\n",
       "      <td>3.40</td>\n",
       "      <td>8.0</td>\n",
       "      <td>115</td>\n",
       "      <td>5500</td>\n",
       "      <td>18</td>\n",
       "      <td>22</td>\n",
       "      <td>17450.0</td>\n",
       "    </tr>\n",
       "  </tbody>\n",
       "</table>\n",
       "<p>5 rows × 26 columns</p>\n",
       "</div>"
      ],
      "text/plain": [
       "   car_ID  symboling                   CarName fueltype aspiration doornumber  \\\n",
       "0       1          3        alfa-romero giulia      gas        std        two   \n",
       "1       2          3       alfa-romero stelvio      gas        std        two   \n",
       "2       3          1  alfa-romero Quadrifoglio      gas        std        two   \n",
       "3       4          2               audi 100 ls      gas        std       four   \n",
       "4       5          2                audi 100ls      gas        std       four   \n",
       "\n",
       "       carbody drivewheel enginelocation  wheelbase  ...  enginesize  \\\n",
       "0  convertible        rwd          front       88.6  ...         130   \n",
       "1  convertible        rwd          front       88.6  ...         130   \n",
       "2    hatchback        rwd          front       94.5  ...         152   \n",
       "3        sedan        fwd          front       99.8  ...         109   \n",
       "4        sedan        4wd          front       99.4  ...         136   \n",
       "\n",
       "   fuelsystem  boreratio  stroke compressionratio horsepower  peakrpm citympg  \\\n",
       "0        mpfi       3.47    2.68              9.0        111     5000      21   \n",
       "1        mpfi       3.47    2.68              9.0        111     5000      21   \n",
       "2        mpfi       2.68    3.47              9.0        154     5000      19   \n",
       "3        mpfi       3.19    3.40             10.0        102     5500      24   \n",
       "4        mpfi       3.19    3.40              8.0        115     5500      18   \n",
       "\n",
       "   highwaympg    price  \n",
       "0          27  13495.0  \n",
       "1          27  16500.0  \n",
       "2          26  16500.0  \n",
       "3          30  13950.0  \n",
       "4          22  17450.0  \n",
       "\n",
       "[5 rows x 26 columns]"
      ]
     },
     "execution_count": 2,
     "metadata": {},
     "output_type": "execute_result"
    }
   ],
   "source": [
    "#Đọc dữ liệu\n",
    "data= pd.read_csv('Case_study_CarPrice_Assignment.csv')\n",
    "data.head()"
   ]
  },
  {
   "cell_type": "code",
   "execution_count": 3,
   "id": "fc8787fc",
   "metadata": {},
   "outputs": [],
   "source": [
    "# Tạo bản sao dữ liệu\n",
    "car=data.copy()"
   ]
  },
  {
   "cell_type": "code",
   "execution_count": 4,
   "id": "3123874c",
   "metadata": {},
   "outputs": [
    {
     "data": {
      "text/html": [
       "<div>\n",
       "<style scoped>\n",
       "    .dataframe tbody tr th:only-of-type {\n",
       "        vertical-align: middle;\n",
       "    }\n",
       "\n",
       "    .dataframe tbody tr th {\n",
       "        vertical-align: top;\n",
       "    }\n",
       "\n",
       "    .dataframe thead th {\n",
       "        text-align: right;\n",
       "    }\n",
       "</style>\n",
       "<table border=\"1\" class=\"dataframe\">\n",
       "  <thead>\n",
       "    <tr style=\"text-align: right;\">\n",
       "      <th></th>\n",
       "      <th>car_ID</th>\n",
       "      <th>symboling</th>\n",
       "      <th>CarName</th>\n",
       "      <th>fueltype</th>\n",
       "      <th>aspiration</th>\n",
       "      <th>doornumber</th>\n",
       "      <th>carbody</th>\n",
       "      <th>drivewheel</th>\n",
       "      <th>enginelocation</th>\n",
       "      <th>wheelbase</th>\n",
       "      <th>...</th>\n",
       "      <th>fuelsystem</th>\n",
       "      <th>boreratio</th>\n",
       "      <th>stroke</th>\n",
       "      <th>compressionratio</th>\n",
       "      <th>horsepower</th>\n",
       "      <th>peakrpm</th>\n",
       "      <th>citympg</th>\n",
       "      <th>highwaympg</th>\n",
       "      <th>price</th>\n",
       "      <th>brand</th>\n",
       "    </tr>\n",
       "  </thead>\n",
       "  <tbody>\n",
       "    <tr>\n",
       "      <th>0</th>\n",
       "      <td>1</td>\n",
       "      <td>3</td>\n",
       "      <td>alfa-romero giulia</td>\n",
       "      <td>gas</td>\n",
       "      <td>std</td>\n",
       "      <td>two</td>\n",
       "      <td>convertible</td>\n",
       "      <td>rwd</td>\n",
       "      <td>front</td>\n",
       "      <td>88.6</td>\n",
       "      <td>...</td>\n",
       "      <td>mpfi</td>\n",
       "      <td>3.47</td>\n",
       "      <td>2.68</td>\n",
       "      <td>9.0</td>\n",
       "      <td>111</td>\n",
       "      <td>5000</td>\n",
       "      <td>21</td>\n",
       "      <td>27</td>\n",
       "      <td>13495.0</td>\n",
       "      <td>alfa-romero</td>\n",
       "    </tr>\n",
       "    <tr>\n",
       "      <th>1</th>\n",
       "      <td>2</td>\n",
       "      <td>3</td>\n",
       "      <td>alfa-romero stelvio</td>\n",
       "      <td>gas</td>\n",
       "      <td>std</td>\n",
       "      <td>two</td>\n",
       "      <td>convertible</td>\n",
       "      <td>rwd</td>\n",
       "      <td>front</td>\n",
       "      <td>88.6</td>\n",
       "      <td>...</td>\n",
       "      <td>mpfi</td>\n",
       "      <td>3.47</td>\n",
       "      <td>2.68</td>\n",
       "      <td>9.0</td>\n",
       "      <td>111</td>\n",
       "      <td>5000</td>\n",
       "      <td>21</td>\n",
       "      <td>27</td>\n",
       "      <td>16500.0</td>\n",
       "      <td>alfa-romero</td>\n",
       "    </tr>\n",
       "    <tr>\n",
       "      <th>2</th>\n",
       "      <td>3</td>\n",
       "      <td>1</td>\n",
       "      <td>alfa-romero Quadrifoglio</td>\n",
       "      <td>gas</td>\n",
       "      <td>std</td>\n",
       "      <td>two</td>\n",
       "      <td>hatchback</td>\n",
       "      <td>rwd</td>\n",
       "      <td>front</td>\n",
       "      <td>94.5</td>\n",
       "      <td>...</td>\n",
       "      <td>mpfi</td>\n",
       "      <td>2.68</td>\n",
       "      <td>3.47</td>\n",
       "      <td>9.0</td>\n",
       "      <td>154</td>\n",
       "      <td>5000</td>\n",
       "      <td>19</td>\n",
       "      <td>26</td>\n",
       "      <td>16500.0</td>\n",
       "      <td>alfa-romero</td>\n",
       "    </tr>\n",
       "    <tr>\n",
       "      <th>3</th>\n",
       "      <td>4</td>\n",
       "      <td>2</td>\n",
       "      <td>audi 100 ls</td>\n",
       "      <td>gas</td>\n",
       "      <td>std</td>\n",
       "      <td>four</td>\n",
       "      <td>sedan</td>\n",
       "      <td>fwd</td>\n",
       "      <td>front</td>\n",
       "      <td>99.8</td>\n",
       "      <td>...</td>\n",
       "      <td>mpfi</td>\n",
       "      <td>3.19</td>\n",
       "      <td>3.40</td>\n",
       "      <td>10.0</td>\n",
       "      <td>102</td>\n",
       "      <td>5500</td>\n",
       "      <td>24</td>\n",
       "      <td>30</td>\n",
       "      <td>13950.0</td>\n",
       "      <td>audi</td>\n",
       "    </tr>\n",
       "    <tr>\n",
       "      <th>4</th>\n",
       "      <td>5</td>\n",
       "      <td>2</td>\n",
       "      <td>audi 100ls</td>\n",
       "      <td>gas</td>\n",
       "      <td>std</td>\n",
       "      <td>four</td>\n",
       "      <td>sedan</td>\n",
       "      <td>4wd</td>\n",
       "      <td>front</td>\n",
       "      <td>99.4</td>\n",
       "      <td>...</td>\n",
       "      <td>mpfi</td>\n",
       "      <td>3.19</td>\n",
       "      <td>3.40</td>\n",
       "      <td>8.0</td>\n",
       "      <td>115</td>\n",
       "      <td>5500</td>\n",
       "      <td>18</td>\n",
       "      <td>22</td>\n",
       "      <td>17450.0</td>\n",
       "      <td>audi</td>\n",
       "    </tr>\n",
       "    <tr>\n",
       "      <th>...</th>\n",
       "      <td>...</td>\n",
       "      <td>...</td>\n",
       "      <td>...</td>\n",
       "      <td>...</td>\n",
       "      <td>...</td>\n",
       "      <td>...</td>\n",
       "      <td>...</td>\n",
       "      <td>...</td>\n",
       "      <td>...</td>\n",
       "      <td>...</td>\n",
       "      <td>...</td>\n",
       "      <td>...</td>\n",
       "      <td>...</td>\n",
       "      <td>...</td>\n",
       "      <td>...</td>\n",
       "      <td>...</td>\n",
       "      <td>...</td>\n",
       "      <td>...</td>\n",
       "      <td>...</td>\n",
       "      <td>...</td>\n",
       "      <td>...</td>\n",
       "    </tr>\n",
       "    <tr>\n",
       "      <th>200</th>\n",
       "      <td>201</td>\n",
       "      <td>-1</td>\n",
       "      <td>volvo 145e (sw)</td>\n",
       "      <td>gas</td>\n",
       "      <td>std</td>\n",
       "      <td>four</td>\n",
       "      <td>sedan</td>\n",
       "      <td>rwd</td>\n",
       "      <td>front</td>\n",
       "      <td>109.1</td>\n",
       "      <td>...</td>\n",
       "      <td>mpfi</td>\n",
       "      <td>3.78</td>\n",
       "      <td>3.15</td>\n",
       "      <td>9.5</td>\n",
       "      <td>114</td>\n",
       "      <td>5400</td>\n",
       "      <td>23</td>\n",
       "      <td>28</td>\n",
       "      <td>16845.0</td>\n",
       "      <td>volvo</td>\n",
       "    </tr>\n",
       "    <tr>\n",
       "      <th>201</th>\n",
       "      <td>202</td>\n",
       "      <td>-1</td>\n",
       "      <td>volvo 144ea</td>\n",
       "      <td>gas</td>\n",
       "      <td>turbo</td>\n",
       "      <td>four</td>\n",
       "      <td>sedan</td>\n",
       "      <td>rwd</td>\n",
       "      <td>front</td>\n",
       "      <td>109.1</td>\n",
       "      <td>...</td>\n",
       "      <td>mpfi</td>\n",
       "      <td>3.78</td>\n",
       "      <td>3.15</td>\n",
       "      <td>8.7</td>\n",
       "      <td>160</td>\n",
       "      <td>5300</td>\n",
       "      <td>19</td>\n",
       "      <td>25</td>\n",
       "      <td>19045.0</td>\n",
       "      <td>volvo</td>\n",
       "    </tr>\n",
       "    <tr>\n",
       "      <th>202</th>\n",
       "      <td>203</td>\n",
       "      <td>-1</td>\n",
       "      <td>volvo 244dl</td>\n",
       "      <td>gas</td>\n",
       "      <td>std</td>\n",
       "      <td>four</td>\n",
       "      <td>sedan</td>\n",
       "      <td>rwd</td>\n",
       "      <td>front</td>\n",
       "      <td>109.1</td>\n",
       "      <td>...</td>\n",
       "      <td>mpfi</td>\n",
       "      <td>3.58</td>\n",
       "      <td>2.87</td>\n",
       "      <td>8.8</td>\n",
       "      <td>134</td>\n",
       "      <td>5500</td>\n",
       "      <td>18</td>\n",
       "      <td>23</td>\n",
       "      <td>21485.0</td>\n",
       "      <td>volvo</td>\n",
       "    </tr>\n",
       "    <tr>\n",
       "      <th>203</th>\n",
       "      <td>204</td>\n",
       "      <td>-1</td>\n",
       "      <td>volvo 246</td>\n",
       "      <td>diesel</td>\n",
       "      <td>turbo</td>\n",
       "      <td>four</td>\n",
       "      <td>sedan</td>\n",
       "      <td>rwd</td>\n",
       "      <td>front</td>\n",
       "      <td>109.1</td>\n",
       "      <td>...</td>\n",
       "      <td>idi</td>\n",
       "      <td>3.01</td>\n",
       "      <td>3.40</td>\n",
       "      <td>23.0</td>\n",
       "      <td>106</td>\n",
       "      <td>4800</td>\n",
       "      <td>26</td>\n",
       "      <td>27</td>\n",
       "      <td>22470.0</td>\n",
       "      <td>volvo</td>\n",
       "    </tr>\n",
       "    <tr>\n",
       "      <th>204</th>\n",
       "      <td>205</td>\n",
       "      <td>-1</td>\n",
       "      <td>volvo 264gl</td>\n",
       "      <td>gas</td>\n",
       "      <td>turbo</td>\n",
       "      <td>four</td>\n",
       "      <td>sedan</td>\n",
       "      <td>rwd</td>\n",
       "      <td>front</td>\n",
       "      <td>109.1</td>\n",
       "      <td>...</td>\n",
       "      <td>mpfi</td>\n",
       "      <td>3.78</td>\n",
       "      <td>3.15</td>\n",
       "      <td>9.5</td>\n",
       "      <td>114</td>\n",
       "      <td>5400</td>\n",
       "      <td>19</td>\n",
       "      <td>25</td>\n",
       "      <td>22625.0</td>\n",
       "      <td>volvo</td>\n",
       "    </tr>\n",
       "  </tbody>\n",
       "</table>\n",
       "<p>205 rows × 27 columns</p>\n",
       "</div>"
      ],
      "text/plain": [
       "     car_ID  symboling                   CarName fueltype aspiration  \\\n",
       "0         1          3        alfa-romero giulia      gas        std   \n",
       "1         2          3       alfa-romero stelvio      gas        std   \n",
       "2         3          1  alfa-romero Quadrifoglio      gas        std   \n",
       "3         4          2               audi 100 ls      gas        std   \n",
       "4         5          2                audi 100ls      gas        std   \n",
       "..      ...        ...                       ...      ...        ...   \n",
       "200     201         -1           volvo 145e (sw)      gas        std   \n",
       "201     202         -1               volvo 144ea      gas      turbo   \n",
       "202     203         -1               volvo 244dl      gas        std   \n",
       "203     204         -1                 volvo 246   diesel      turbo   \n",
       "204     205         -1               volvo 264gl      gas      turbo   \n",
       "\n",
       "    doornumber      carbody drivewheel enginelocation  wheelbase  ...  \\\n",
       "0          two  convertible        rwd          front       88.6  ...   \n",
       "1          two  convertible        rwd          front       88.6  ...   \n",
       "2          two    hatchback        rwd          front       94.5  ...   \n",
       "3         four        sedan        fwd          front       99.8  ...   \n",
       "4         four        sedan        4wd          front       99.4  ...   \n",
       "..         ...          ...        ...            ...        ...  ...   \n",
       "200       four        sedan        rwd          front      109.1  ...   \n",
       "201       four        sedan        rwd          front      109.1  ...   \n",
       "202       four        sedan        rwd          front      109.1  ...   \n",
       "203       four        sedan        rwd          front      109.1  ...   \n",
       "204       four        sedan        rwd          front      109.1  ...   \n",
       "\n",
       "     fuelsystem  boreratio  stroke  compressionratio horsepower peakrpm  \\\n",
       "0          mpfi       3.47    2.68               9.0        111    5000   \n",
       "1          mpfi       3.47    2.68               9.0        111    5000   \n",
       "2          mpfi       2.68    3.47               9.0        154    5000   \n",
       "3          mpfi       3.19    3.40              10.0        102    5500   \n",
       "4          mpfi       3.19    3.40               8.0        115    5500   \n",
       "..          ...        ...     ...               ...        ...     ...   \n",
       "200        mpfi       3.78    3.15               9.5        114    5400   \n",
       "201        mpfi       3.78    3.15               8.7        160    5300   \n",
       "202        mpfi       3.58    2.87               8.8        134    5500   \n",
       "203         idi       3.01    3.40              23.0        106    4800   \n",
       "204        mpfi       3.78    3.15               9.5        114    5400   \n",
       "\n",
       "     citympg highwaympg    price        brand  \n",
       "0         21         27  13495.0  alfa-romero  \n",
       "1         21         27  16500.0  alfa-romero  \n",
       "2         19         26  16500.0  alfa-romero  \n",
       "3         24         30  13950.0         audi  \n",
       "4         18         22  17450.0         audi  \n",
       "..       ...        ...      ...          ...  \n",
       "200       23         28  16845.0        volvo  \n",
       "201       19         25  19045.0        volvo  \n",
       "202       18         23  21485.0        volvo  \n",
       "203       26         27  22470.0        volvo  \n",
       "204       19         25  22625.0        volvo  \n",
       "\n",
       "[205 rows x 27 columns]"
      ]
     },
     "execution_count": 4,
     "metadata": {},
     "output_type": "execute_result"
    }
   ],
   "source": [
    "#Tạo cột brand từ CarName để nghiên cứu khả năng thương hiệu ảnh hưởng đến giá xe\n",
    "car['brand']= car['CarName'].str.split().str[0]\n",
    "car"
   ]
  },
  {
   "cell_type": "markdown",
   "id": "ef02dd7a",
   "metadata": {},
   "source": [
    "## 2. Phân tích sơ bộ cấu trúc dữ liệu"
   ]
  },
  {
   "cell_type": "code",
   "execution_count": 5,
   "id": "d5a47038",
   "metadata": {},
   "outputs": [
    {
     "name": "stdout",
     "output_type": "stream",
     "text": [
      "<class 'pandas.core.frame.DataFrame'>\n",
      "RangeIndex: 205 entries, 0 to 204\n",
      "Data columns (total 27 columns):\n",
      " #   Column            Non-Null Count  Dtype  \n",
      "---  ------            --------------  -----  \n",
      " 0   car_ID            205 non-null    int64  \n",
      " 1   symboling         205 non-null    int64  \n",
      " 2   CarName           205 non-null    object \n",
      " 3   fueltype          205 non-null    object \n",
      " 4   aspiration        205 non-null    object \n",
      " 5   doornumber        205 non-null    object \n",
      " 6   carbody           205 non-null    object \n",
      " 7   drivewheel        205 non-null    object \n",
      " 8   enginelocation    205 non-null    object \n",
      " 9   wheelbase         205 non-null    float64\n",
      " 10  carlength         205 non-null    float64\n",
      " 11  carwidth          205 non-null    float64\n",
      " 12  carheight         205 non-null    float64\n",
      " 13  curbweight        205 non-null    int64  \n",
      " 14  enginetype        205 non-null    object \n",
      " 15  cylindernumber    205 non-null    object \n",
      " 16  enginesize        205 non-null    int64  \n",
      " 17  fuelsystem        205 non-null    object \n",
      " 18  boreratio         205 non-null    float64\n",
      " 19  stroke            205 non-null    float64\n",
      " 20  compressionratio  205 non-null    float64\n",
      " 21  horsepower        205 non-null    int64  \n",
      " 22  peakrpm           205 non-null    int64  \n",
      " 23  citympg           205 non-null    int64  \n",
      " 24  highwaympg        205 non-null    int64  \n",
      " 25  price             205 non-null    float64\n",
      " 26  brand             205 non-null    object \n",
      "dtypes: float64(8), int64(8), object(11)\n",
      "memory usage: 43.4+ KB\n",
      "None\n",
      "Tổng số lượng dữ liệu trùng lặp: 0\n"
     ]
    }
   ],
   "source": [
    "#Cấu trúc dữ liệu\n",
    "print(f'{car.info()}')\n",
    "print(f'Tổng số lượng dữ liệu trùng lặp: {car.duplicated().sum()}')"
   ]
  },
  {
   "cell_type": "code",
   "execution_count": 6,
   "id": "e80ea561",
   "metadata": {},
   "outputs": [
    {
     "data": {
      "text/plain": [
       "array([2, 4], dtype=int64)"
      ]
     },
     "execution_count": 6,
     "metadata": {},
     "output_type": "execute_result"
    }
   ],
   "source": [
    "#Thuộc tính doornumber (số lượng cửa) và cylindernumber (số lượng xi lanh đặt trong xe) đang được nhập dưới dạng chữ, kiểu dữ liệu object. Chuẩn hóa lại dữ liệu về dạng số.\n",
    "#Chuẩn hóa cột doornumber\n",
    "car['doornumber'].unique()\n",
    "car['doornumber'].replace(['two', 'four'],[2,4], inplace=True)\n",
    "car['doornumber'].unique()"
   ]
  },
  {
   "cell_type": "code",
   "execution_count": 7,
   "id": "2fac76be",
   "metadata": {},
   "outputs": [
    {
     "data": {
      "text/plain": [
       "array([ 4,  6,  5,  3, 12,  2,  8], dtype=int64)"
      ]
     },
     "execution_count": 7,
     "metadata": {},
     "output_type": "execute_result"
    }
   ],
   "source": [
    "#Chuẩn hóa cột cylindernumber\n",
    "car['cylindernumber'].unique()\n",
    "car['cylindernumber'].replace(['four', 'six', 'five', 'three', 'twelve', 'two', 'eight'],[4, 6, 5, 3, 12, 2, 8], inplace=True)\n",
    "car['cylindernumber'].unique()"
   ]
  },
  {
   "cell_type": "code",
   "execution_count": 8,
   "id": "0b08064c",
   "metadata": {},
   "outputs": [
    {
     "data": {
      "text/html": [
       "<div>\n",
       "<style scoped>\n",
       "    .dataframe tbody tr th:only-of-type {\n",
       "        vertical-align: middle;\n",
       "    }\n",
       "\n",
       "    .dataframe tbody tr th {\n",
       "        vertical-align: top;\n",
       "    }\n",
       "\n",
       "    .dataframe thead th {\n",
       "        text-align: right;\n",
       "    }\n",
       "</style>\n",
       "<table border=\"1\" class=\"dataframe\">\n",
       "  <thead>\n",
       "    <tr style=\"text-align: right;\">\n",
       "      <th></th>\n",
       "      <th>car_ID</th>\n",
       "      <th>symboling</th>\n",
       "      <th>doornumber</th>\n",
       "      <th>wheelbase</th>\n",
       "      <th>carlength</th>\n",
       "      <th>carwidth</th>\n",
       "      <th>carheight</th>\n",
       "      <th>curbweight</th>\n",
       "      <th>cylindernumber</th>\n",
       "      <th>enginesize</th>\n",
       "      <th>boreratio</th>\n",
       "      <th>stroke</th>\n",
       "      <th>compressionratio</th>\n",
       "      <th>horsepower</th>\n",
       "      <th>peakrpm</th>\n",
       "      <th>citympg</th>\n",
       "      <th>highwaympg</th>\n",
       "      <th>price</th>\n",
       "    </tr>\n",
       "  </thead>\n",
       "  <tbody>\n",
       "    <tr>\n",
       "      <th>count</th>\n",
       "      <td>205.000000</td>\n",
       "      <td>205.000000</td>\n",
       "      <td>205.000000</td>\n",
       "      <td>205.000000</td>\n",
       "      <td>205.000000</td>\n",
       "      <td>205.000000</td>\n",
       "      <td>205.000000</td>\n",
       "      <td>205.000000</td>\n",
       "      <td>205.000000</td>\n",
       "      <td>205.000000</td>\n",
       "      <td>205.000000</td>\n",
       "      <td>205.000000</td>\n",
       "      <td>205.000000</td>\n",
       "      <td>205.000000</td>\n",
       "      <td>205.000000</td>\n",
       "      <td>205.000000</td>\n",
       "      <td>205.000000</td>\n",
       "      <td>205.000000</td>\n",
       "    </tr>\n",
       "    <tr>\n",
       "      <th>mean</th>\n",
       "      <td>103.000000</td>\n",
       "      <td>0.834146</td>\n",
       "      <td>3.121951</td>\n",
       "      <td>98.756585</td>\n",
       "      <td>174.049268</td>\n",
       "      <td>65.907805</td>\n",
       "      <td>53.724878</td>\n",
       "      <td>2555.565854</td>\n",
       "      <td>4.380488</td>\n",
       "      <td>126.907317</td>\n",
       "      <td>3.329756</td>\n",
       "      <td>3.255415</td>\n",
       "      <td>10.142537</td>\n",
       "      <td>104.117073</td>\n",
       "      <td>5125.121951</td>\n",
       "      <td>25.219512</td>\n",
       "      <td>30.751220</td>\n",
       "      <td>13276.710571</td>\n",
       "    </tr>\n",
       "    <tr>\n",
       "      <th>std</th>\n",
       "      <td>59.322565</td>\n",
       "      <td>1.245307</td>\n",
       "      <td>0.994966</td>\n",
       "      <td>6.021776</td>\n",
       "      <td>12.337289</td>\n",
       "      <td>2.145204</td>\n",
       "      <td>2.443522</td>\n",
       "      <td>520.680204</td>\n",
       "      <td>1.080854</td>\n",
       "      <td>41.642693</td>\n",
       "      <td>0.270844</td>\n",
       "      <td>0.313597</td>\n",
       "      <td>3.972040</td>\n",
       "      <td>39.544167</td>\n",
       "      <td>476.985643</td>\n",
       "      <td>6.542142</td>\n",
       "      <td>6.886443</td>\n",
       "      <td>7988.852332</td>\n",
       "    </tr>\n",
       "    <tr>\n",
       "      <th>min</th>\n",
       "      <td>1.000000</td>\n",
       "      <td>-2.000000</td>\n",
       "      <td>2.000000</td>\n",
       "      <td>86.600000</td>\n",
       "      <td>141.100000</td>\n",
       "      <td>60.300000</td>\n",
       "      <td>47.800000</td>\n",
       "      <td>1488.000000</td>\n",
       "      <td>2.000000</td>\n",
       "      <td>61.000000</td>\n",
       "      <td>2.540000</td>\n",
       "      <td>2.070000</td>\n",
       "      <td>7.000000</td>\n",
       "      <td>48.000000</td>\n",
       "      <td>4150.000000</td>\n",
       "      <td>13.000000</td>\n",
       "      <td>16.000000</td>\n",
       "      <td>5118.000000</td>\n",
       "    </tr>\n",
       "    <tr>\n",
       "      <th>25%</th>\n",
       "      <td>52.000000</td>\n",
       "      <td>0.000000</td>\n",
       "      <td>2.000000</td>\n",
       "      <td>94.500000</td>\n",
       "      <td>166.300000</td>\n",
       "      <td>64.100000</td>\n",
       "      <td>52.000000</td>\n",
       "      <td>2145.000000</td>\n",
       "      <td>4.000000</td>\n",
       "      <td>97.000000</td>\n",
       "      <td>3.150000</td>\n",
       "      <td>3.110000</td>\n",
       "      <td>8.600000</td>\n",
       "      <td>70.000000</td>\n",
       "      <td>4800.000000</td>\n",
       "      <td>19.000000</td>\n",
       "      <td>25.000000</td>\n",
       "      <td>7788.000000</td>\n",
       "    </tr>\n",
       "    <tr>\n",
       "      <th>50%</th>\n",
       "      <td>103.000000</td>\n",
       "      <td>1.000000</td>\n",
       "      <td>4.000000</td>\n",
       "      <td>97.000000</td>\n",
       "      <td>173.200000</td>\n",
       "      <td>65.500000</td>\n",
       "      <td>54.100000</td>\n",
       "      <td>2414.000000</td>\n",
       "      <td>4.000000</td>\n",
       "      <td>120.000000</td>\n",
       "      <td>3.310000</td>\n",
       "      <td>3.290000</td>\n",
       "      <td>9.000000</td>\n",
       "      <td>95.000000</td>\n",
       "      <td>5200.000000</td>\n",
       "      <td>24.000000</td>\n",
       "      <td>30.000000</td>\n",
       "      <td>10295.000000</td>\n",
       "    </tr>\n",
       "    <tr>\n",
       "      <th>75%</th>\n",
       "      <td>154.000000</td>\n",
       "      <td>2.000000</td>\n",
       "      <td>4.000000</td>\n",
       "      <td>102.400000</td>\n",
       "      <td>183.100000</td>\n",
       "      <td>66.900000</td>\n",
       "      <td>55.500000</td>\n",
       "      <td>2935.000000</td>\n",
       "      <td>4.000000</td>\n",
       "      <td>141.000000</td>\n",
       "      <td>3.580000</td>\n",
       "      <td>3.410000</td>\n",
       "      <td>9.400000</td>\n",
       "      <td>116.000000</td>\n",
       "      <td>5500.000000</td>\n",
       "      <td>30.000000</td>\n",
       "      <td>34.000000</td>\n",
       "      <td>16503.000000</td>\n",
       "    </tr>\n",
       "    <tr>\n",
       "      <th>max</th>\n",
       "      <td>205.000000</td>\n",
       "      <td>3.000000</td>\n",
       "      <td>4.000000</td>\n",
       "      <td>120.900000</td>\n",
       "      <td>208.100000</td>\n",
       "      <td>72.300000</td>\n",
       "      <td>59.800000</td>\n",
       "      <td>4066.000000</td>\n",
       "      <td>12.000000</td>\n",
       "      <td>326.000000</td>\n",
       "      <td>3.940000</td>\n",
       "      <td>4.170000</td>\n",
       "      <td>23.000000</td>\n",
       "      <td>288.000000</td>\n",
       "      <td>6600.000000</td>\n",
       "      <td>49.000000</td>\n",
       "      <td>54.000000</td>\n",
       "      <td>45400.000000</td>\n",
       "    </tr>\n",
       "  </tbody>\n",
       "</table>\n",
       "</div>"
      ],
      "text/plain": [
       "           car_ID   symboling  doornumber   wheelbase   carlength    carwidth  \\\n",
       "count  205.000000  205.000000  205.000000  205.000000  205.000000  205.000000   \n",
       "mean   103.000000    0.834146    3.121951   98.756585  174.049268   65.907805   \n",
       "std     59.322565    1.245307    0.994966    6.021776   12.337289    2.145204   \n",
       "min      1.000000   -2.000000    2.000000   86.600000  141.100000   60.300000   \n",
       "25%     52.000000    0.000000    2.000000   94.500000  166.300000   64.100000   \n",
       "50%    103.000000    1.000000    4.000000   97.000000  173.200000   65.500000   \n",
       "75%    154.000000    2.000000    4.000000  102.400000  183.100000   66.900000   \n",
       "max    205.000000    3.000000    4.000000  120.900000  208.100000   72.300000   \n",
       "\n",
       "        carheight   curbweight  cylindernumber  enginesize   boreratio  \\\n",
       "count  205.000000   205.000000      205.000000  205.000000  205.000000   \n",
       "mean    53.724878  2555.565854        4.380488  126.907317    3.329756   \n",
       "std      2.443522   520.680204        1.080854   41.642693    0.270844   \n",
       "min     47.800000  1488.000000        2.000000   61.000000    2.540000   \n",
       "25%     52.000000  2145.000000        4.000000   97.000000    3.150000   \n",
       "50%     54.100000  2414.000000        4.000000  120.000000    3.310000   \n",
       "75%     55.500000  2935.000000        4.000000  141.000000    3.580000   \n",
       "max     59.800000  4066.000000       12.000000  326.000000    3.940000   \n",
       "\n",
       "           stroke  compressionratio  horsepower      peakrpm     citympg  \\\n",
       "count  205.000000        205.000000  205.000000   205.000000  205.000000   \n",
       "mean     3.255415         10.142537  104.117073  5125.121951   25.219512   \n",
       "std      0.313597          3.972040   39.544167   476.985643    6.542142   \n",
       "min      2.070000          7.000000   48.000000  4150.000000   13.000000   \n",
       "25%      3.110000          8.600000   70.000000  4800.000000   19.000000   \n",
       "50%      3.290000          9.000000   95.000000  5200.000000   24.000000   \n",
       "75%      3.410000          9.400000  116.000000  5500.000000   30.000000   \n",
       "max      4.170000         23.000000  288.000000  6600.000000   49.000000   \n",
       "\n",
       "       highwaympg         price  \n",
       "count  205.000000    205.000000  \n",
       "mean    30.751220  13276.710571  \n",
       "std      6.886443   7988.852332  \n",
       "min     16.000000   5118.000000  \n",
       "25%     25.000000   7788.000000  \n",
       "50%     30.000000  10295.000000  \n",
       "75%     34.000000  16503.000000  \n",
       "max     54.000000  45400.000000  "
      ]
     },
     "execution_count": 8,
     "metadata": {},
     "output_type": "execute_result"
    }
   ],
   "source": [
    "# Phân tích sơ bộ dữ liệu\n",
    "car.describe()"
   ]
  },
  {
   "cell_type": "code",
   "execution_count": 9,
   "id": "527854df",
   "metadata": {},
   "outputs": [
    {
     "data": {
      "image/png": "[encoded data removed]",
      "text/plain": [
       "<Figure size 2000x1500 with 20 Axes>"
      ]
     },
     "metadata": {},
     "output_type": "display_data"
    }
   ],
   "source": [
    "import matplotlib.pyplot as plt\n",
    "car.hist(bins=50, figsize=(20,15))\n",
    "plt.show()"
   ]
  },
  {
   "cell_type": "markdown",
   "id": "ad3619a5",
   "metadata": {},
   "source": [
    "Nhận xét: Tập dữ liệu đang thu thập gồm 25 yếu tố có thể ảnh hưởng tới giá xe hơi (26 cột, 205 dòng). \n",
    " - Tất cả các cột đều ghi nhận đầy đủ 205 giá trị --> không có dữ liệu khuyết thiếu. \n",
    " - Kiểm tra thông tin của tất cả các dòng không có dòng nào giống hệt nhau -> không có dữ liệu trùng lặp.\n",
    " - Dữ liệu một số thuộc tính định lượng có xu hướng phân bố lệch trái\n",
    " - Mean và Mod của các thuộc tính định lượng không có sự khác biệt quá lớn. Riêng giá xe có sự khác biệt tương đối."
   ]
  },
  {
   "cell_type": "markdown",
   "id": "21f88a29",
   "metadata": {},
   "source": [
    "## 3. Kiểm định mức tương quan giữa các thuộc tính và giá xe hơi"
   ]
  },
  {
   "cell_type": "code",
   "execution_count": 10,
   "id": "3148b4b1",
   "metadata": {
    "scrolled": true
   },
   "outputs": [
    {
     "data": {
      "text/plain": [
       "price               1.000000\n",
       "enginesize          0.874145\n",
       "curbweight          0.835305\n",
       "horsepower          0.808139\n",
       "carwidth            0.759325\n",
       "cylindernumber      0.718305\n",
       "carlength           0.682920\n",
       "wheelbase           0.577816\n",
       "boreratio           0.553173\n",
       "carheight           0.119336\n",
       "stroke              0.079443\n",
       "compressionratio    0.067984\n",
       "doornumber          0.031835\n",
       "symboling          -0.079978\n",
       "peakrpm            -0.085267\n",
       "car_ID             -0.109093\n",
       "citympg            -0.685751\n",
       "highwaympg         -0.697599\n",
       "Name: price, dtype: float64"
      ]
     },
     "execution_count": 10,
     "metadata": {},
     "output_type": "execute_result"
    }
   ],
   "source": [
    "#Kiểm định tương quan giữa các thuộc tính định lượng và giá xe hơi\n",
    "from scipy import  stats \n",
    "corr_matrix = car.corr(numeric_only=True)\n",
    "corr_matrix['price'].sort_values(ascending = False)"
   ]
  },
  {
   "cell_type": "markdown",
   "id": "48fd82d1",
   "metadata": {},
   "source": [
    "Nhận xét:\n",
    "- 3 thuộc tính định lượng có mức tương quan (ảnh hường) lớn nhất tới giá xe hơi gồm: enginesize, curbweight và horsepower. \n",
    "- Ngoài ra 3 thuộc tính cần xem xét đưa vào mô hình: carwidth, cylindernumber, carlength."
   ]
  },
  {
   "cell_type": "code",
   "execution_count": 11,
   "id": "2d13f78a",
   "metadata": {},
   "outputs": [
    {
     "data": {
      "text/html": [
       "<div>\n",
       "<style scoped>\n",
       "    .dataframe tbody tr th:only-of-type {\n",
       "        vertical-align: middle;\n",
       "    }\n",
       "\n",
       "    .dataframe tbody tr th {\n",
       "        vertical-align: top;\n",
       "    }\n",
       "\n",
       "    .dataframe thead th {\n",
       "        text-align: right;\n",
       "    }\n",
       "</style>\n",
       "<table border=\"1\" class=\"dataframe\">\n",
       "  <thead>\n",
       "    <tr style=\"text-align: right;\">\n",
       "      <th></th>\n",
       "      <th>car_ID</th>\n",
       "      <th>symboling</th>\n",
       "      <th>CarName</th>\n",
       "      <th>fueltype</th>\n",
       "      <th>aspiration</th>\n",
       "      <th>doornumber</th>\n",
       "      <th>carbody</th>\n",
       "      <th>drivewheel</th>\n",
       "      <th>enginelocation</th>\n",
       "      <th>wheelbase</th>\n",
       "      <th>...</th>\n",
       "      <th>stroke</th>\n",
       "      <th>compressionratio</th>\n",
       "      <th>horsepower</th>\n",
       "      <th>peakrpm</th>\n",
       "      <th>citympg</th>\n",
       "      <th>highwaympg</th>\n",
       "      <th>price</th>\n",
       "      <th>brand</th>\n",
       "      <th>brand_code</th>\n",
       "      <th>carbody_code</th>\n",
       "    </tr>\n",
       "  </thead>\n",
       "  <tbody>\n",
       "    <tr>\n",
       "      <th>0</th>\n",
       "      <td>1</td>\n",
       "      <td>3</td>\n",
       "      <td>alfa-romero giulia</td>\n",
       "      <td>gas</td>\n",
       "      <td>std</td>\n",
       "      <td>2</td>\n",
       "      <td>convertible</td>\n",
       "      <td>rwd</td>\n",
       "      <td>front</td>\n",
       "      <td>88.6</td>\n",
       "      <td>...</td>\n",
       "      <td>2.68</td>\n",
       "      <td>9.0</td>\n",
       "      <td>111</td>\n",
       "      <td>5000</td>\n",
       "      <td>21</td>\n",
       "      <td>27</td>\n",
       "      <td>13495.0</td>\n",
       "      <td>alfa-romero</td>\n",
       "      <td>1</td>\n",
       "      <td>0</td>\n",
       "    </tr>\n",
       "    <tr>\n",
       "      <th>1</th>\n",
       "      <td>2</td>\n",
       "      <td>3</td>\n",
       "      <td>alfa-romero stelvio</td>\n",
       "      <td>gas</td>\n",
       "      <td>std</td>\n",
       "      <td>2</td>\n",
       "      <td>convertible</td>\n",
       "      <td>rwd</td>\n",
       "      <td>front</td>\n",
       "      <td>88.6</td>\n",
       "      <td>...</td>\n",
       "      <td>2.68</td>\n",
       "      <td>9.0</td>\n",
       "      <td>111</td>\n",
       "      <td>5000</td>\n",
       "      <td>21</td>\n",
       "      <td>27</td>\n",
       "      <td>16500.0</td>\n",
       "      <td>alfa-romero</td>\n",
       "      <td>1</td>\n",
       "      <td>0</td>\n",
       "    </tr>\n",
       "    <tr>\n",
       "      <th>2</th>\n",
       "      <td>3</td>\n",
       "      <td>1</td>\n",
       "      <td>alfa-romero Quadrifoglio</td>\n",
       "      <td>gas</td>\n",
       "      <td>std</td>\n",
       "      <td>2</td>\n",
       "      <td>hatchback</td>\n",
       "      <td>rwd</td>\n",
       "      <td>front</td>\n",
       "      <td>94.5</td>\n",
       "      <td>...</td>\n",
       "      <td>3.47</td>\n",
       "      <td>9.0</td>\n",
       "      <td>154</td>\n",
       "      <td>5000</td>\n",
       "      <td>19</td>\n",
       "      <td>26</td>\n",
       "      <td>16500.0</td>\n",
       "      <td>alfa-romero</td>\n",
       "      <td>1</td>\n",
       "      <td>2</td>\n",
       "    </tr>\n",
       "    <tr>\n",
       "      <th>3</th>\n",
       "      <td>4</td>\n",
       "      <td>2</td>\n",
       "      <td>audi 100 ls</td>\n",
       "      <td>gas</td>\n",
       "      <td>std</td>\n",
       "      <td>4</td>\n",
       "      <td>sedan</td>\n",
       "      <td>fwd</td>\n",
       "      <td>front</td>\n",
       "      <td>99.8</td>\n",
       "      <td>...</td>\n",
       "      <td>3.40</td>\n",
       "      <td>10.0</td>\n",
       "      <td>102</td>\n",
       "      <td>5500</td>\n",
       "      <td>24</td>\n",
       "      <td>30</td>\n",
       "      <td>13950.0</td>\n",
       "      <td>audi</td>\n",
       "      <td>2</td>\n",
       "      <td>3</td>\n",
       "    </tr>\n",
       "    <tr>\n",
       "      <th>4</th>\n",
       "      <td>5</td>\n",
       "      <td>2</td>\n",
       "      <td>audi 100ls</td>\n",
       "      <td>gas</td>\n",
       "      <td>std</td>\n",
       "      <td>4</td>\n",
       "      <td>sedan</td>\n",
       "      <td>4wd</td>\n",
       "      <td>front</td>\n",
       "      <td>99.4</td>\n",
       "      <td>...</td>\n",
       "      <td>3.40</td>\n",
       "      <td>8.0</td>\n",
       "      <td>115</td>\n",
       "      <td>5500</td>\n",
       "      <td>18</td>\n",
       "      <td>22</td>\n",
       "      <td>17450.0</td>\n",
       "      <td>audi</td>\n",
       "      <td>2</td>\n",
       "      <td>3</td>\n",
       "    </tr>\n",
       "    <tr>\n",
       "      <th>...</th>\n",
       "      <td>...</td>\n",
       "      <td>...</td>\n",
       "      <td>...</td>\n",
       "      <td>...</td>\n",
       "      <td>...</td>\n",
       "      <td>...</td>\n",
       "      <td>...</td>\n",
       "      <td>...</td>\n",
       "      <td>...</td>\n",
       "      <td>...</td>\n",
       "      <td>...</td>\n",
       "      <td>...</td>\n",
       "      <td>...</td>\n",
       "      <td>...</td>\n",
       "      <td>...</td>\n",
       "      <td>...</td>\n",
       "      <td>...</td>\n",
       "      <td>...</td>\n",
       "      <td>...</td>\n",
       "      <td>...</td>\n",
       "      <td>...</td>\n",
       "    </tr>\n",
       "    <tr>\n",
       "      <th>200</th>\n",
       "      <td>201</td>\n",
       "      <td>-1</td>\n",
       "      <td>volvo 145e (sw)</td>\n",
       "      <td>gas</td>\n",
       "      <td>std</td>\n",
       "      <td>4</td>\n",
       "      <td>sedan</td>\n",
       "      <td>rwd</td>\n",
       "      <td>front</td>\n",
       "      <td>109.1</td>\n",
       "      <td>...</td>\n",
       "      <td>3.15</td>\n",
       "      <td>9.5</td>\n",
       "      <td>114</td>\n",
       "      <td>5400</td>\n",
       "      <td>23</td>\n",
       "      <td>28</td>\n",
       "      <td>16845.0</td>\n",
       "      <td>volvo</td>\n",
       "      <td>26</td>\n",
       "      <td>3</td>\n",
       "    </tr>\n",
       "    <tr>\n",
       "      <th>201</th>\n",
       "      <td>202</td>\n",
       "      <td>-1</td>\n",
       "      <td>volvo 144ea</td>\n",
       "      <td>gas</td>\n",
       "      <td>turbo</td>\n",
       "      <td>4</td>\n",
       "      <td>sedan</td>\n",
       "      <td>rwd</td>\n",
       "      <td>front</td>\n",
       "      <td>109.1</td>\n",
       "      <td>...</td>\n",
       "      <td>3.15</td>\n",
       "      <td>8.7</td>\n",
       "      <td>160</td>\n",
       "      <td>5300</td>\n",
       "      <td>19</td>\n",
       "      <td>25</td>\n",
       "      <td>19045.0</td>\n",
       "      <td>volvo</td>\n",
       "      <td>26</td>\n",
       "      <td>3</td>\n",
       "    </tr>\n",
       "    <tr>\n",
       "      <th>202</th>\n",
       "      <td>203</td>\n",
       "      <td>-1</td>\n",
       "      <td>volvo 244dl</td>\n",
       "      <td>gas</td>\n",
       "      <td>std</td>\n",
       "      <td>4</td>\n",
       "      <td>sedan</td>\n",
       "      <td>rwd</td>\n",
       "      <td>front</td>\n",
       "      <td>109.1</td>\n",
       "      <td>...</td>\n",
       "      <td>2.87</td>\n",
       "      <td>8.8</td>\n",
       "      <td>134</td>\n",
       "      <td>5500</td>\n",
       "      <td>18</td>\n",
       "      <td>23</td>\n",
       "      <td>21485.0</td>\n",
       "      <td>volvo</td>\n",
       "      <td>26</td>\n",
       "      <td>3</td>\n",
       "    </tr>\n",
       "    <tr>\n",
       "      <th>203</th>\n",
       "      <td>204</td>\n",
       "      <td>-1</td>\n",
       "      <td>volvo 246</td>\n",
       "      <td>diesel</td>\n",
       "      <td>turbo</td>\n",
       "      <td>4</td>\n",
       "      <td>sedan</td>\n",
       "      <td>rwd</td>\n",
       "      <td>front</td>\n",
       "      <td>109.1</td>\n",
       "      <td>...</td>\n",
       "      <td>3.40</td>\n",
       "      <td>23.0</td>\n",
       "      <td>106</td>\n",
       "      <td>4800</td>\n",
       "      <td>26</td>\n",
       "      <td>27</td>\n",
       "      <td>22470.0</td>\n",
       "      <td>volvo</td>\n",
       "      <td>26</td>\n",
       "      <td>3</td>\n",
       "    </tr>\n",
       "    <tr>\n",
       "      <th>204</th>\n",
       "      <td>205</td>\n",
       "      <td>-1</td>\n",
       "      <td>volvo 264gl</td>\n",
       "      <td>gas</td>\n",
       "      <td>turbo</td>\n",
       "      <td>4</td>\n",
       "      <td>sedan</td>\n",
       "      <td>rwd</td>\n",
       "      <td>front</td>\n",
       "      <td>109.1</td>\n",
       "      <td>...</td>\n",
       "      <td>3.15</td>\n",
       "      <td>9.5</td>\n",
       "      <td>114</td>\n",
       "      <td>5400</td>\n",
       "      <td>19</td>\n",
       "      <td>25</td>\n",
       "      <td>22625.0</td>\n",
       "      <td>volvo</td>\n",
       "      <td>26</td>\n",
       "      <td>3</td>\n",
       "    </tr>\n",
       "  </tbody>\n",
       "</table>\n",
       "<p>205 rows × 29 columns</p>\n",
       "</div>"
      ],
      "text/plain": [
       "     car_ID  symboling                   CarName fueltype aspiration  \\\n",
       "0         1          3        alfa-romero giulia      gas        std   \n",
       "1         2          3       alfa-romero stelvio      gas        std   \n",
       "2         3          1  alfa-romero Quadrifoglio      gas        std   \n",
       "3         4          2               audi 100 ls      gas        std   \n",
       "4         5          2                audi 100ls      gas        std   \n",
       "..      ...        ...                       ...      ...        ...   \n",
       "200     201         -1           volvo 145e (sw)      gas        std   \n",
       "201     202         -1               volvo 144ea      gas      turbo   \n",
       "202     203         -1               volvo 244dl      gas        std   \n",
       "203     204         -1                 volvo 246   diesel      turbo   \n",
       "204     205         -1               volvo 264gl      gas      turbo   \n",
       "\n",
       "     doornumber      carbody drivewheel enginelocation  wheelbase  ...  \\\n",
       "0             2  convertible        rwd          front       88.6  ...   \n",
       "1             2  convertible        rwd          front       88.6  ...   \n",
       "2             2    hatchback        rwd          front       94.5  ...   \n",
       "3             4        sedan        fwd          front       99.8  ...   \n",
       "4             4        sedan        4wd          front       99.4  ...   \n",
       "..          ...          ...        ...            ...        ...  ...   \n",
       "200           4        sedan        rwd          front      109.1  ...   \n",
       "201           4        sedan        rwd          front      109.1  ...   \n",
       "202           4        sedan        rwd          front      109.1  ...   \n",
       "203           4        sedan        rwd          front      109.1  ...   \n",
       "204           4        sedan        rwd          front      109.1  ...   \n",
       "\n",
       "     stroke  compressionratio  horsepower  peakrpm citympg  highwaympg  \\\n",
       "0      2.68               9.0         111     5000      21          27   \n",
       "1      2.68               9.0         111     5000      21          27   \n",
       "2      3.47               9.0         154     5000      19          26   \n",
       "3      3.40              10.0         102     5500      24          30   \n",
       "4      3.40               8.0         115     5500      18          22   \n",
       "..      ...               ...         ...      ...     ...         ...   \n",
       "200    3.15               9.5         114     5400      23          28   \n",
       "201    3.15               8.7         160     5300      19          25   \n",
       "202    2.87               8.8         134     5500      18          23   \n",
       "203    3.40              23.0         106     4800      26          27   \n",
       "204    3.15               9.5         114     5400      19          25   \n",
       "\n",
       "       price        brand  brand_code  carbody_code  \n",
       "0    13495.0  alfa-romero           1             0  \n",
       "1    16500.0  alfa-romero           1             0  \n",
       "2    16500.0  alfa-romero           1             2  \n",
       "3    13950.0         audi           2             3  \n",
       "4    17450.0         audi           2             3  \n",
       "..       ...          ...         ...           ...  \n",
       "200  16845.0        volvo          26             3  \n",
       "201  19045.0        volvo          26             3  \n",
       "202  21485.0        volvo          26             3  \n",
       "203  22470.0        volvo          26             3  \n",
       "204  22625.0        volvo          26             3  \n",
       "\n",
       "[205 rows x 29 columns]"
      ]
     },
     "execution_count": 11,
     "metadata": {},
     "output_type": "execute_result"
    }
   ],
   "source": [
    "#Kiểm định tương quan giữa thuộc tính định tính và giá xe hơi\n",
    "# Sử dụng LabelEncodeing để mã hóa và hệ số corr để xem xét tương quan giữa hãng xe/ thân xe và giá xe sau đó so sánh với kết quả của kiểm định spearman\n",
    "# Mã hóa hãng xe\n",
    "from sklearn.preprocessing import LabelEncoder\n",
    "encoder = LabelEncoder()\n",
    "car['brand_code'] = encoder.fit_transform(car['brand'].values)\n",
    "car['carbody_code'] = encoder.fit_transform(car['carbody'].values)\n",
    "car"
   ]
  },
  {
   "cell_type": "code",
   "execution_count": 12,
   "id": "fe463c4a",
   "metadata": {},
   "outputs": [
    {
     "data": {
      "text/plain": [
       "price               1.000000\n",
       "enginesize          0.874145\n",
       "curbweight          0.835305\n",
       "horsepower          0.808139\n",
       "carwidth            0.759325\n",
       "cylindernumber      0.718305\n",
       "carlength           0.682920\n",
       "wheelbase           0.577816\n",
       "boreratio           0.553173\n",
       "carheight           0.119336\n",
       "stroke              0.079443\n",
       "compressionratio    0.067984\n",
       "doornumber          0.031835\n",
       "symboling          -0.079978\n",
       "carbody_code       -0.083976\n",
       "peakrpm            -0.085267\n",
       "car_ID             -0.109093\n",
       "brand_code         -0.231594\n",
       "citympg            -0.685751\n",
       "highwaympg         -0.697599\n",
       "Name: price, dtype: float64"
      ]
     },
     "execution_count": 12,
     "metadata": {},
     "output_type": "execute_result"
    }
   ],
   "source": [
    "#Xem xét tương quan giữa hãng xe, thân xe và giá xe sau khi mã hóa\n",
    "corr_matrix = car.corr(numeric_only=True)\n",
    "corr_matrix['price'].sort_values(ascending = False)"
   ]
  },
  {
   "cell_type": "code",
   "execution_count": 13,
   "id": "a33b785a",
   "metadata": {},
   "outputs": [
    {
     "name": "stdout",
     "output_type": "stream",
     "text": [
      "r = -0.06996569440946838\n",
      "pvalue = 0.31883586766915756\n"
     ]
    }
   ],
   "source": [
    "#Kiểm định tương quan giữa thuộc tính tên xe/thân xe và giá xe hơi bằng Spearman\n",
    "#Tên xe và giá xe \n",
    "from scipy import  stats \n",
    "r, pvalue = stats.spearmanr(car['brand'],car['price'])\n",
    "print('r =',r)\n",
    "print('pvalue =',pvalue)\n"
   ]
  },
  {
   "cell_type": "code",
   "execution_count": 14,
   "id": "953c3c4c",
   "metadata": {},
   "outputs": [
    {
     "name": "stdout",
     "output_type": "stream",
     "text": [
      "r = 0.09178485959664219\n",
      "pvalue = 0.19057227497525178\n"
     ]
    }
   ],
   "source": [
    "#Thân xe và giá xe \n",
    "r, pvalue = stats.spearmanr(car['carbody'],car['price'])\n",
    "print('r =',r)\n",
    "print('pvalue =',pvalue)"
   ]
  },
  {
   "cell_type": "markdown",
   "id": "6da53d44",
   "metadata": {},
   "source": [
    "Nhận xét: \n",
    "- Việc mã hóa dữ liệu hãng xe bằng phương pháp LabelEncoding sau đó tính toán hệ số tương quan corr và sử dụng kiểm định Spearman đều cho kết quả mức tương quan thấp (Corr = -0.231439; pvalue = 0.32712 > alpha=0.05) -> Thuộc tính hãng xe có mức ảnh hưởng thấp đến giá xe. \n",
    "- Kết quả tương tự đối với thân xe và giá xe.\n",
    "\n",
    "--> Sử dụng kiểm định Spearman cho tất cả các thuộc tính định tính"
   ]
  },
  {
   "cell_type": "code",
   "execution_count": 15,
   "id": "b8841ae1",
   "metadata": {},
   "outputs": [
    {
     "data": {
      "text/plain": [
       "Index(['CarName', 'fueltype', 'aspiration', 'carbody', 'drivewheel',\n",
       "       'enginelocation', 'enginetype', 'fuelsystem', 'brand'],\n",
       "      dtype='object')"
      ]
     },
     "execution_count": 15,
     "metadata": {},
     "output_type": "execute_result"
    }
   ],
   "source": [
    "car.columns[car.dtypes=='object']"
   ]
  },
  {
   "cell_type": "code",
   "execution_count": 16,
   "id": "eb3be836",
   "metadata": {},
   "outputs": [
    {
     "data": {
      "text/plain": [
       "['fueltype:0.04568297411674289',\n",
       " 'aspiration:6.5637546727367955e-06',\n",
       " 'drivewheel:4.9537966157749595e-24',\n",
       " 'enginelocation:0.005092262581381994',\n",
       " 'fuelsystem:2.0468628898699014e-29']"
      ]
     },
     "execution_count": 16,
     "metadata": {},
     "output_type": "execute_result"
    }
   ],
   "source": [
    "#Kiểm định spearman cho các thuộc tính định tính và giá xe hơi\n",
    "car_qual=car[['CarName','fueltype','aspiration','carbody', 'drivewheel','enginelocation','enginetype','fuelsystem','brand','price']]\n",
    "p=[]\n",
    "for i in range(len(car_qual.columns)-1):\n",
    "    r, pvalue = stats.spearmanr(car[car_qual.columns[i]],car_qual['price'])\n",
    "    if pvalue < 0.05: p.append(f'{car_qual.columns[i]}:{pvalue}')\n",
    "p"
   ]
  },
  {
   "cell_type": "markdown",
   "id": "33c1f1a0",
   "metadata": {},
   "source": [
    "Nhận xét: 03 thuộc tính định tính có khả năng ảnh hưởng lớn tới giá xe hơi (pvalue << alpha=0.05) bao gồm: aspiration, drivewheel và fuelsystem. -> Mã hóa dữ liệu các cột định tính để đưa vào mô hình.\n",
    "\n",
    "--> Tổng hợp các yếu tố định tính và định lượng xem xét đưa vào mô hình gồm:\n",
    "- Định lượng: enginesize, curbweight và horsepower, cân nhắc các yếu tố carwidth, cylindernumber và highwaympg nếu 03 biến định lượng có mức tương quan lớn với nhau/mô hình cho score thấp.\n",
    "- Định tính: aspiration, drivewheel và fuelsystem\n"
   ]
  },
  {
   "cell_type": "markdown",
   "id": "0c0062a4",
   "metadata": {},
   "source": [
    "## 4. Lựa chọn các thuộc tính đưa vào mô hình"
   ]
  },
  {
   "cell_type": "code",
   "execution_count": 17,
   "id": "9b28e45e",
   "metadata": {},
   "outputs": [
    {
     "name": "stdout",
     "output_type": "stream",
     "text": [
      "<class 'pandas.core.frame.DataFrame'>\n",
      "RangeIndex: 205 entries, 0 to 204\n",
      "Data columns (total 10 columns):\n",
      " #   Column          Non-Null Count  Dtype  \n",
      "---  ------          --------------  -----  \n",
      " 0   aspiration      205 non-null    object \n",
      " 1   drivewheel      205 non-null    object \n",
      " 2   fuelsystem      205 non-null    object \n",
      " 3   enginesize      205 non-null    int64  \n",
      " 4   curbweight      205 non-null    int64  \n",
      " 5   horsepower      205 non-null    int64  \n",
      " 6   carwidth        205 non-null    float64\n",
      " 7   cylindernumber  205 non-null    int64  \n",
      " 8   highwaympg      205 non-null    int64  \n",
      " 9   price           205 non-null    float64\n",
      "dtypes: float64(2), int64(5), object(3)\n",
      "memory usage: 16.1+ KB\n"
     ]
    }
   ],
   "source": [
    "#Thuộc tính lựa chọn đưa vào mô hình căn cứ kết quả thử nghiệm kiểm định\n",
    "df_car = car.loc[:,('aspiration','drivewheel','fuelsystem', 'enginesize', 'curbweight', 'horsepower','carwidth', 'cylindernumber', 'highwaympg','price')]\n",
    "df_car.info()"
   ]
  },
  {
   "cell_type": "markdown",
   "id": "8dc58f76",
   "metadata": {},
   "source": [
    "Mã hóa dữ liệu 3 thuộc tính định tính lựa chọn đưa vào mô hình; kiểm định lại tương quan giữa các thuộc tính"
   ]
  },
  {
   "cell_type": "code",
   "execution_count": 18,
   "id": "4cadf1a1",
   "metadata": {},
   "outputs": [
    {
     "data": {
      "text/html": [
       "<div>\n",
       "<style scoped>\n",
       "    .dataframe tbody tr th:only-of-type {\n",
       "        vertical-align: middle;\n",
       "    }\n",
       "\n",
       "    .dataframe tbody tr th {\n",
       "        vertical-align: top;\n",
       "    }\n",
       "\n",
       "    .dataframe thead th {\n",
       "        text-align: right;\n",
       "    }\n",
       "</style>\n",
       "<table border=\"1\" class=\"dataframe\">\n",
       "  <thead>\n",
       "    <tr style=\"text-align: right;\">\n",
       "      <th></th>\n",
       "      <th>aspiration</th>\n",
       "      <th>drivewheel</th>\n",
       "      <th>fuelsystem</th>\n",
       "      <th>enginesize</th>\n",
       "      <th>curbweight</th>\n",
       "      <th>horsepower</th>\n",
       "      <th>carwidth</th>\n",
       "      <th>cylindernumber</th>\n",
       "      <th>highwaympg</th>\n",
       "      <th>price</th>\n",
       "    </tr>\n",
       "  </thead>\n",
       "  <tbody>\n",
       "    <tr>\n",
       "      <th>0</th>\n",
       "      <td>0</td>\n",
       "      <td>2</td>\n",
       "      <td>5</td>\n",
       "      <td>130</td>\n",
       "      <td>2548</td>\n",
       "      <td>111</td>\n",
       "      <td>64.1</td>\n",
       "      <td>4</td>\n",
       "      <td>27</td>\n",
       "      <td>13495.0</td>\n",
       "    </tr>\n",
       "    <tr>\n",
       "      <th>1</th>\n",
       "      <td>0</td>\n",
       "      <td>2</td>\n",
       "      <td>5</td>\n",
       "      <td>130</td>\n",
       "      <td>2548</td>\n",
       "      <td>111</td>\n",
       "      <td>64.1</td>\n",
       "      <td>4</td>\n",
       "      <td>27</td>\n",
       "      <td>16500.0</td>\n",
       "    </tr>\n",
       "    <tr>\n",
       "      <th>2</th>\n",
       "      <td>0</td>\n",
       "      <td>2</td>\n",
       "      <td>5</td>\n",
       "      <td>152</td>\n",
       "      <td>2823</td>\n",
       "      <td>154</td>\n",
       "      <td>65.5</td>\n",
       "      <td>6</td>\n",
       "      <td>26</td>\n",
       "      <td>16500.0</td>\n",
       "    </tr>\n",
       "    <tr>\n",
       "      <th>3</th>\n",
       "      <td>0</td>\n",
       "      <td>1</td>\n",
       "      <td>5</td>\n",
       "      <td>109</td>\n",
       "      <td>2337</td>\n",
       "      <td>102</td>\n",
       "      <td>66.2</td>\n",
       "      <td>4</td>\n",
       "      <td>30</td>\n",
       "      <td>13950.0</td>\n",
       "    </tr>\n",
       "    <tr>\n",
       "      <th>4</th>\n",
       "      <td>0</td>\n",
       "      <td>0</td>\n",
       "      <td>5</td>\n",
       "      <td>136</td>\n",
       "      <td>2824</td>\n",
       "      <td>115</td>\n",
       "      <td>66.4</td>\n",
       "      <td>5</td>\n",
       "      <td>22</td>\n",
       "      <td>17450.0</td>\n",
       "    </tr>\n",
       "    <tr>\n",
       "      <th>...</th>\n",
       "      <td>...</td>\n",
       "      <td>...</td>\n",
       "      <td>...</td>\n",
       "      <td>...</td>\n",
       "      <td>...</td>\n",
       "      <td>...</td>\n",
       "      <td>...</td>\n",
       "      <td>...</td>\n",
       "      <td>...</td>\n",
       "      <td>...</td>\n",
       "    </tr>\n",
       "    <tr>\n",
       "      <th>200</th>\n",
       "      <td>0</td>\n",
       "      <td>2</td>\n",
       "      <td>5</td>\n",
       "      <td>141</td>\n",
       "      <td>2952</td>\n",
       "      <td>114</td>\n",
       "      <td>68.9</td>\n",
       "      <td>4</td>\n",
       "      <td>28</td>\n",
       "      <td>16845.0</td>\n",
       "    </tr>\n",
       "    <tr>\n",
       "      <th>201</th>\n",
       "      <td>1</td>\n",
       "      <td>2</td>\n",
       "      <td>5</td>\n",
       "      <td>141</td>\n",
       "      <td>3049</td>\n",
       "      <td>160</td>\n",
       "      <td>68.8</td>\n",
       "      <td>4</td>\n",
       "      <td>25</td>\n",
       "      <td>19045.0</td>\n",
       "    </tr>\n",
       "    <tr>\n",
       "      <th>202</th>\n",
       "      <td>0</td>\n",
       "      <td>2</td>\n",
       "      <td>5</td>\n",
       "      <td>173</td>\n",
       "      <td>3012</td>\n",
       "      <td>134</td>\n",
       "      <td>68.9</td>\n",
       "      <td>6</td>\n",
       "      <td>23</td>\n",
       "      <td>21485.0</td>\n",
       "    </tr>\n",
       "    <tr>\n",
       "      <th>203</th>\n",
       "      <td>1</td>\n",
       "      <td>2</td>\n",
       "      <td>3</td>\n",
       "      <td>145</td>\n",
       "      <td>3217</td>\n",
       "      <td>106</td>\n",
       "      <td>68.9</td>\n",
       "      <td>6</td>\n",
       "      <td>27</td>\n",
       "      <td>22470.0</td>\n",
       "    </tr>\n",
       "    <tr>\n",
       "      <th>204</th>\n",
       "      <td>1</td>\n",
       "      <td>2</td>\n",
       "      <td>5</td>\n",
       "      <td>141</td>\n",
       "      <td>3062</td>\n",
       "      <td>114</td>\n",
       "      <td>68.9</td>\n",
       "      <td>4</td>\n",
       "      <td>25</td>\n",
       "      <td>22625.0</td>\n",
       "    </tr>\n",
       "  </tbody>\n",
       "</table>\n",
       "<p>205 rows × 10 columns</p>\n",
       "</div>"
      ],
      "text/plain": [
       "     aspiration  drivewheel  fuelsystem  enginesize  curbweight  horsepower  \\\n",
       "0             0           2           5         130        2548         111   \n",
       "1             0           2           5         130        2548         111   \n",
       "2             0           2           5         152        2823         154   \n",
       "3             0           1           5         109        2337         102   \n",
       "4             0           0           5         136        2824         115   \n",
       "..          ...         ...         ...         ...         ...         ...   \n",
       "200           0           2           5         141        2952         114   \n",
       "201           1           2           5         141        3049         160   \n",
       "202           0           2           5         173        3012         134   \n",
       "203           1           2           3         145        3217         106   \n",
       "204           1           2           5         141        3062         114   \n",
       "\n",
       "     carwidth  cylindernumber  highwaympg    price  \n",
       "0        64.1               4          27  13495.0  \n",
       "1        64.1               4          27  16500.0  \n",
       "2        65.5               6          26  16500.0  \n",
       "3        66.2               4          30  13950.0  \n",
       "4        66.4               5          22  17450.0  \n",
       "..        ...             ...         ...      ...  \n",
       "200      68.9               4          28  16845.0  \n",
       "201      68.8               4          25  19045.0  \n",
       "202      68.9               6          23  21485.0  \n",
       "203      68.9               6          27  22470.0  \n",
       "204      68.9               4          25  22625.0  \n",
       "\n",
       "[205 rows x 10 columns]"
      ]
     },
     "execution_count": 18,
     "metadata": {},
     "output_type": "execute_result"
    }
   ],
   "source": [
    "# Sử dụng Label Encoding\n",
    "from sklearn.preprocessing import LabelEncoder\n",
    "encoder = LabelEncoder()\n",
    "df_car['aspiration']=encoder.fit_transform(df_car['aspiration'])\n",
    "df_car['drivewheel']=encoder.fit_transform(df_car['drivewheel'])\n",
    "df_car['fuelsystem']=encoder.fit_transform(df_car['fuelsystem'])\n",
    "df_car"
   ]
  },
  {
   "cell_type": "code",
   "execution_count": 19,
   "id": "d19e189b",
   "metadata": {},
   "outputs": [
    {
     "data": {
      "text/plain": [
       "price             1.000000\n",
       "enginesize        0.874145\n",
       "curbweight        0.835305\n",
       "horsepower        0.808139\n",
       "carwidth          0.759325\n",
       "cylindernumber    0.718305\n",
       "drivewheel        0.577992\n",
       "fuelsystem        0.526823\n",
       "aspiration        0.177926\n",
       "highwaympg       -0.697599\n",
       "Name: price, dtype: float64"
      ]
     },
     "execution_count": 19,
     "metadata": {},
     "output_type": "execute_result"
    }
   ],
   "source": [
    "#Kiểm định lại mức tương quan giữa các thuộc tính sau mã hóa và giá xe\n",
    "from scipy import  stats \n",
    "corr_matrix = df_car.corr(numeric_only=True)\n",
    "corr_matrix['price'].sort_values(ascending = False)"
   ]
  },
  {
   "cell_type": "code",
   "execution_count": 20,
   "id": "b8bc9588",
   "metadata": {},
   "outputs": [],
   "source": [
    "#Bộ dữ liệu thử nghiệm 1. \n",
    "#Các thuộc tính lựa chọn gồm 4 thuộc tính định lượng và 1 thuộc tính định tính có tương quan lớn gồm: \n",
    "#'drivewheel','fuelsystem', 'enginesize', 'curbweight', 'horsepower'\n",
    "car1=df_car.loc[:,('drivewheel','fuelsystem', 'enginesize', 'curbweight', 'horsepower','price')]\n",
    "from sklearn.model_selection import train_test_split\n",
    "train_set1, test_set1 = train_test_split(car1, test_size = 0.2, random_state=42)"
   ]
  },
  {
   "cell_type": "code",
   "execution_count": 21,
   "id": "beb3e853",
   "metadata": {},
   "outputs": [
    {
     "data": {
      "text/plain": [
       "price         1.000000\n",
       "enginesize    0.866433\n",
       "curbweight    0.824212\n",
       "horsepower    0.810986\n",
       "drivewheel    0.586441\n",
       "fuelsystem    0.552034\n",
       "Name: price, dtype: float64"
      ]
     },
     "execution_count": 21,
     "metadata": {},
     "output_type": "execute_result"
    }
   ],
   "source": [
    "#Kiểm định lại mức tương quan giữa các thuộc tính sau khi mã hóa\n",
    "from scipy import  stats \n",
    "corr_matrix = train_set1.corr(numeric_only=True)\n",
    "corr_matrix['price'].sort_values(ascending = False)\n"
   ]
  },
  {
   "cell_type": "code",
   "execution_count": 22,
   "id": "9335f6d9",
   "metadata": {},
   "outputs": [
    {
     "data": {
      "text/plain": [
       "<Axes: >"
      ]
     },
     "execution_count": 22,
     "metadata": {},
     "output_type": "execute_result"
    },
    {
     "data": {
      "image/png": "[encoded data removed]",
      "text/plain": [
       "<Figure size 640x480 with 2 Axes>"
      ]
     },
     "metadata": {},
     "output_type": "display_data"
    }
   ],
   "source": [
    "sns.heatmap(corr_matrix)"
   ]
  },
  {
   "cell_type": "code",
   "execution_count": 23,
   "id": "61b24876",
   "metadata": {},
   "outputs": [
    {
     "data": {
      "text/plain": [
       "['enginesize - curbweight: 0.835858938076455',\n",
       " 'enginesize - horsepower: 0.804452164061477',\n",
       " 'curbweight - horsepower: 0.726686555598216']"
      ]
     },
     "execution_count": 23,
     "metadata": {},
     "output_type": "execute_result"
    }
   ],
   "source": [
    "#Kiểm định tương quan giữa các thuộc tính\n",
    "covar1=[]\n",
    "for i in range(0,len(train_set1.columns)-1,1):\n",
    "    for j in range(i,len(train_set1.columns)-1,1):\n",
    "        if i==j:\n",
    "            continue\n",
    "        r_coef, pl = pearsonr(train_set1[train_set1.columns[i]], train_set1[train_set1.columns[j]])\n",
    "        if abs(r_coef) >= 0.7:\n",
    "            covar1.append(f'{train_set1.columns[i]} - {train_set1.columns[j]}: {r_coef}')\n",
    "covar1"
   ]
  },
  {
   "cell_type": "code",
   "execution_count": 24,
   "id": "26b80dea",
   "metadata": {},
   "outputs": [],
   "source": [
    "Xtrain1=train_set1.iloc[:, :-1].values\n",
    "Xtest1=test_set1.iloc[:, :-1].values\n",
    "ytrain1=train_set1.iloc[:,-1]\n",
    "ytest1=test_set1.iloc[:,-1]"
   ]
  },
  {
   "cell_type": "code",
   "execution_count": 25,
   "id": "bd48b6d9",
   "metadata": {},
   "outputs": [
    {
     "data": {
      "text/html": [
       "<style>#sk-container-id-1 {color: black;background-color: white;}#sk-container-id-1 pre{padding: 0;}#sk-container-id-1 div.sk-toggleable {background-color: white;}#sk-container-id-1 label.sk-toggleable__label {cursor: pointer;display: block;width: 100%;margin-bottom: 0;padding: 0.3em;box-sizing: border-box;text-align: center;}#sk-container-id-1 label.sk-toggleable__label-arrow:before {content: \"▸\";float: left;margin-right: 0.25em;color: #696969;}#sk-container-id-1 label.sk-toggleable__label-arrow:hover:before {color: black;}#sk-container-id-1 div.sk-estimator:hover label.sk-toggleable__label-arrow:before {color: black;}#sk-container-id-1 div.sk-toggleable__content {max-height: 0;max-width: 0;overflow: hidden;text-align: left;background-color: #f0f8ff;}#sk-container-id-1 div.sk-toggleable__content pre {margin: 0.2em;color: black;border-radius: 0.25em;background-color: #f0f8ff;}#sk-container-id-1 input.sk-toggleable__control:checked~div.sk-toggleable__content {max-height: 200px;max-width: 100%;overflow: auto;}#sk-container-id-1 input.sk-toggleable__control:checked~label.sk-toggleable__label-arrow:before {content: \"▾\";}#sk-container-id-1 div.sk-estimator input.sk-toggleable__control:checked~label.sk-toggleable__label {background-color: #d4ebff;}#sk-container-id-1 div.sk-label input.sk-toggleable__control:checked~label.sk-toggleable__label {background-color: #d4ebff;}#sk-container-id-1 input.sk-hidden--visually {border: 0;clip: rect(1px 1px 1px 1px);clip: rect(1px, 1px, 1px, 1px);height: 1px;margin: -1px;overflow: hidden;padding: 0;position: absolute;width: 1px;}#sk-container-id-1 div.sk-estimator {font-family: monospace;background-color: #f0f8ff;border: 1px dotted black;border-radius: 0.25em;box-sizing: border-box;margin-bottom: 0.5em;}#sk-container-id-1 div.sk-estimator:hover {background-color: #d4ebff;}#sk-container-id-1 div.sk-parallel-item::after {content: \"\";width: 100%;border-bottom: 1px solid gray;flex-grow: 1;}#sk-container-id-1 div.sk-label:hover label.sk-toggleable__label {background-color: #d4ebff;}#sk-container-id-1 div.sk-serial::before {content: \"\";position: absolute;border-left: 1px solid gray;box-sizing: border-box;top: 0;bottom: 0;left: 50%;z-index: 0;}#sk-container-id-1 div.sk-serial {display: flex;flex-direction: column;align-items: center;background-color: white;padding-right: 0.2em;padding-left: 0.2em;position: relative;}#sk-container-id-1 div.sk-item {position: relative;z-index: 1;}#sk-container-id-1 div.sk-parallel {display: flex;align-items: stretch;justify-content: center;background-color: white;position: relative;}#sk-container-id-1 div.sk-item::before, #sk-container-id-1 div.sk-parallel-item::before {content: \"\";position: absolute;border-left: 1px solid gray;box-sizing: border-box;top: 0;bottom: 0;left: 50%;z-index: -1;}#sk-container-id-1 div.sk-parallel-item {display: flex;flex-direction: column;z-index: 1;position: relative;background-color: white;}#sk-container-id-1 div.sk-parallel-item:first-child::after {align-self: flex-end;width: 50%;}#sk-container-id-1 div.sk-parallel-item:last-child::after {align-self: flex-start;width: 50%;}#sk-container-id-1 div.sk-parallel-item:only-child::after {width: 0;}#sk-container-id-1 div.sk-dashed-wrapped {border: 1px dashed gray;margin: 0 0.4em 0.5em 0.4em;box-sizing: border-box;padding-bottom: 0.4em;background-color: white;}#sk-container-id-1 div.sk-label label {font-family: monospace;font-weight: bold;display: inline-block;line-height: 1.2em;}#sk-container-id-1 div.sk-label-container {text-align: center;}#sk-container-id-1 div.sk-container {/* jupyter's `normalize.less` sets `[hidden] { display: none; }` but bootstrap.min.css set `[hidden] { display: none !important; }` so we also need the `!important` here to be able to override the default hidden behavior on the sphinx rendered scikit-learn.org. See: https://github.com/scikit-learn/scikit-learn/issues/21755 */display: inline-block !important;position: relative;}#sk-container-id-1 div.sk-text-repr-fallback {display: none;}</style><div id=\"sk-container-id-1\" class=\"sk-top-container\"><div class=\"sk-text-repr-fallback\"><pre>LinearRegression()</pre><b>In a Jupyter environment, please rerun this cell to show the HTML representation or trust the notebook. <br />On GitHub, the HTML representation is unable to render, please try loading this page with nbviewer.org.</b></div><div class=\"sk-container\" hidden><div class=\"sk-item\"><div class=\"sk-estimator sk-toggleable\"><input class=\"sk-toggleable__control sk-hidden--visually\" id=\"sk-estimator-id-1\" type=\"checkbox\" checked><label for=\"sk-estimator-id-1\" class=\"sk-toggleable__label sk-toggleable__label-arrow\">LinearRegression</label><div class=\"sk-toggleable__content\"><pre>LinearRegression()</pre></div></div></div></div></div>"
      ],
      "text/plain": [
       "LinearRegression()"
      ]
     },
     "execution_count": 25,
     "metadata": {},
     "output_type": "execute_result"
    }
   ],
   "source": [
    "#Tạo mô hình\n",
    "from sklearn.linear_model import LinearRegression\n",
    "car1_model = LinearRegression()\n",
    "car1_model.fit(Xtrain1, ytrain1.ravel())"
   ]
  },
  {
   "cell_type": "code",
   "execution_count": 26,
   "id": "ccb51622",
   "metadata": {},
   "outputs": [
    {
     "name": "stdout",
     "output_type": "stream",
     "text": [
      "The linear model is: \n",
      " price = -13153.1305233057 +      1167.3774033065897*drivewheel + -87.3631171953496*fuelsystem + \n",
      "      77.28686558971879*enginesize + 3.867642590341374*curbweight +      51.880107993888984*horsepower\n"
     ]
    }
   ],
   "source": [
    "#KQ mô hình\n",
    "print(f'''The linear model is: \\n price = {car1_model.intercept_} +\\\n",
    "      {car1_model.coef_[0]}*drivewheel + {car1_model.coef_[1]}*fuelsystem + \n",
    "      {car1_model.coef_[2]}*enginesize + {car1_model.coef_[3]}*curbweight +\\\n",
    "      {car1_model.coef_[4]}*horsepower''')"
   ]
  },
  {
   "cell_type": "code",
   "execution_count": 27,
   "id": "6177f933",
   "metadata": {},
   "outputs": [
    {
     "data": {
      "text/plain": [
       "0.8149782696013206"
      ]
     },
     "execution_count": 27,
     "metadata": {},
     "output_type": "execute_result"
    }
   ],
   "source": [
    "car1_model.score(Xtrain1, ytrain1)"
   ]
  },
  {
   "cell_type": "code",
   "execution_count": 28,
   "id": "0139b432",
   "metadata": {},
   "outputs": [
    {
     "data": {
      "text/plain": [
       "0.8353907001936591"
      ]
     },
     "execution_count": 28,
     "metadata": {},
     "output_type": "execute_result"
    }
   ],
   "source": [
    "car1_model.score(Xtest1, ytest1)"
   ]
  },
  {
   "cell_type": "markdown",
   "id": "7e8fed18",
   "metadata": {},
   "source": [
    "Nhận xét: Điểm trên tập train và tập test chấp nhận được. Tuy nhiên các thuộc tính định lượng có hệ số tương quan cao.\n",
    "-> loại bỏ thuộc tính horsepower để kiểm tra mức độ tác động đến mô hình."
   ]
  },
  {
   "cell_type": "code",
   "execution_count": 29,
   "id": "6caf3ddf",
   "metadata": {},
   "outputs": [],
   "source": [
    "#Bộ dữ liệu thử nghiệm 2. Các thuộc tính lựa chọn gồm: 'drivewheel','fuelsystem', 'enginesize', 'curbweight', 'horsepower','carwidth'\n",
    "car2=df_car.loc[:,('drivewheel','fuelsystem', 'enginesize', 'curbweight','price')]\n",
    "from sklearn.model_selection import train_test_split\n",
    "train_set2, test_set2 = train_test_split(car2, test_size = 0.2, random_state=42)"
   ]
  },
  {
   "cell_type": "code",
   "execution_count": 30,
   "id": "67d5f031",
   "metadata": {},
   "outputs": [
    {
     "data": {
      "text/plain": [
       "price         1.000000\n",
       "enginesize    0.866433\n",
       "curbweight    0.824212\n",
       "drivewheel    0.586441\n",
       "fuelsystem    0.552034\n",
       "Name: price, dtype: float64"
      ]
     },
     "execution_count": 30,
     "metadata": {},
     "output_type": "execute_result"
    }
   ],
   "source": [
    "from scipy import  stats \n",
    "corr_matrix = train_set2.corr(numeric_only=True)\n",
    "corr_matrix\n",
    "corr_matrix['price'].sort_values(ascending = False)"
   ]
  },
  {
   "cell_type": "code",
   "execution_count": 31,
   "id": "98eb3c64",
   "metadata": {},
   "outputs": [
    {
     "data": {
      "text/plain": [
       "['enginesize - curbweight: 0.835858938076455']"
      ]
     },
     "execution_count": 31,
     "metadata": {},
     "output_type": "execute_result"
    }
   ],
   "source": [
    "# Kiểm định tương quan giữa các thuộc tính\n",
    "covar2=[]\n",
    "for i in range(0,len(train_set2.columns)-1,1):\n",
    "    for j in range(i,len(train_set2.columns)-1,1):\n",
    "        if i==j:\n",
    "            continue\n",
    "        r_coef, pl = pearsonr(train_set2[train_set2.columns[i]], train_set2[train_set2.columns[j]])\n",
    "        if abs(r_coef) >= 0.7:\n",
    "            covar2.append(f'{train_set2.columns[i]} - {train_set2.columns[j]}: {r_coef}')\n",
    "covar2"
   ]
  },
  {
   "cell_type": "code",
   "execution_count": 32,
   "id": "c9f4d9a2",
   "metadata": {},
   "outputs": [
    {
     "data": {
      "text/html": [
       "<style>#sk-container-id-2 {color: black;background-color: white;}#sk-container-id-2 pre{padding: 0;}#sk-container-id-2 div.sk-toggleable {background-color: white;}#sk-container-id-2 label.sk-toggleable__label {cursor: pointer;display: block;width: 100%;margin-bottom: 0;padding: 0.3em;box-sizing: border-box;text-align: center;}#sk-container-id-2 label.sk-toggleable__label-arrow:before {content: \"▸\";float: left;margin-right: 0.25em;color: #696969;}#sk-container-id-2 label.sk-toggleable__label-arrow:hover:before {color: black;}#sk-container-id-2 div.sk-estimator:hover label.sk-toggleable__label-arrow:before {color: black;}#sk-container-id-2 div.sk-toggleable__content {max-height: 0;max-width: 0;overflow: hidden;text-align: left;background-color: #f0f8ff;}#sk-container-id-2 div.sk-toggleable__content pre {margin: 0.2em;color: black;border-radius: 0.25em;background-color: #f0f8ff;}#sk-container-id-2 input.sk-toggleable__control:checked~div.sk-toggleable__content {max-height: 200px;max-width: 100%;overflow: auto;}#sk-container-id-2 input.sk-toggleable__control:checked~label.sk-toggleable__label-arrow:before {content: \"▾\";}#sk-container-id-2 div.sk-estimator input.sk-toggleable__control:checked~label.sk-toggleable__label {background-color: #d4ebff;}#sk-container-id-2 div.sk-label input.sk-toggleable__control:checked~label.sk-toggleable__label {background-color: #d4ebff;}#sk-container-id-2 input.sk-hidden--visually {border: 0;clip: rect(1px 1px 1px 1px);clip: rect(1px, 1px, 1px, 1px);height: 1px;margin: -1px;overflow: hidden;padding: 0;position: absolute;width: 1px;}#sk-container-id-2 div.sk-estimator {font-family: monospace;background-color: #f0f8ff;border: 1px dotted black;border-radius: 0.25em;box-sizing: border-box;margin-bottom: 0.5em;}#sk-container-id-2 div.sk-estimator:hover {background-color: #d4ebff;}#sk-container-id-2 div.sk-parallel-item::after {content: \"\";width: 100%;border-bottom: 1px solid gray;flex-grow: 1;}#sk-container-id-2 div.sk-label:hover label.sk-toggleable__label {background-color: #d4ebff;}#sk-container-id-2 div.sk-serial::before {content: \"\";position: absolute;border-left: 1px solid gray;box-sizing: border-box;top: 0;bottom: 0;left: 50%;z-index: 0;}#sk-container-id-2 div.sk-serial {display: flex;flex-direction: column;align-items: center;background-color: white;padding-right: 0.2em;padding-left: 0.2em;position: relative;}#sk-container-id-2 div.sk-item {position: relative;z-index: 1;}#sk-container-id-2 div.sk-parallel {display: flex;align-items: stretch;justify-content: center;background-color: white;position: relative;}#sk-container-id-2 div.sk-item::before, #sk-container-id-2 div.sk-parallel-item::before {content: \"\";position: absolute;border-left: 1px solid gray;box-sizing: border-box;top: 0;bottom: 0;left: 50%;z-index: -1;}#sk-container-id-2 div.sk-parallel-item {display: flex;flex-direction: column;z-index: 1;position: relative;background-color: white;}#sk-container-id-2 div.sk-parallel-item:first-child::after {align-self: flex-end;width: 50%;}#sk-container-id-2 div.sk-parallel-item:last-child::after {align-self: flex-start;width: 50%;}#sk-container-id-2 div.sk-parallel-item:only-child::after {width: 0;}#sk-container-id-2 div.sk-dashed-wrapped {border: 1px dashed gray;margin: 0 0.4em 0.5em 0.4em;box-sizing: border-box;padding-bottom: 0.4em;background-color: white;}#sk-container-id-2 div.sk-label label {font-family: monospace;font-weight: bold;display: inline-block;line-height: 1.2em;}#sk-container-id-2 div.sk-label-container {text-align: center;}#sk-container-id-2 div.sk-container {/* jupyter's `normalize.less` sets `[hidden] { display: none; }` but bootstrap.min.css set `[hidden] { display: none !important; }` so we also need the `!important` here to be able to override the default hidden behavior on the sphinx rendered scikit-learn.org. See: https://github.com/scikit-learn/scikit-learn/issues/21755 */display: inline-block !important;position: relative;}#sk-container-id-2 div.sk-text-repr-fallback {display: none;}</style><div id=\"sk-container-id-2\" class=\"sk-top-container\"><div class=\"sk-text-repr-fallback\"><pre>LinearRegression()</pre><b>In a Jupyter environment, please rerun this cell to show the HTML representation or trust the notebook. <br />On GitHub, the HTML representation is unable to render, please try loading this page with nbviewer.org.</b></div><div class=\"sk-container\" hidden><div class=\"sk-item\"><div class=\"sk-estimator sk-toggleable\"><input class=\"sk-toggleable__control sk-hidden--visually\" id=\"sk-estimator-id-2\" type=\"checkbox\" checked><label for=\"sk-estimator-id-2\" class=\"sk-toggleable__label sk-toggleable__label-arrow\">LinearRegression</label><div class=\"sk-toggleable__content\"><pre>LinearRegression()</pre></div></div></div></div></div>"
      ],
      "text/plain": [
       "LinearRegression()"
      ]
     },
     "execution_count": 32,
     "metadata": {},
     "output_type": "execute_result"
    }
   ],
   "source": [
    "# Mô hình thử nghiệm car2\n",
    "Xtrain2=train_set2.iloc[:, :-1].values\n",
    "Xtest2=test_set2.iloc[:, :-1].values\n",
    "ytrain2=train_set2.iloc[:,-1]\n",
    "ytest2=test_set2.iloc[:,-1]\n",
    "#Tạo mô hình\n",
    "from sklearn.linear_model import LinearRegression\n",
    "car2_model = LinearRegression()\n",
    "car2_model.fit(Xtrain2, ytrain2.ravel())"
   ]
  },
  {
   "cell_type": "code",
   "execution_count": 33,
   "id": "88737fba",
   "metadata": {},
   "outputs": [
    {
     "data": {
      "text/plain": [
       "0.7948879510232366"
      ]
     },
     "execution_count": 33,
     "metadata": {},
     "output_type": "execute_result"
    }
   ],
   "source": [
    "car2_model.score(Xtrain2, ytrain2)"
   ]
  },
  {
   "cell_type": "code",
   "execution_count": 34,
   "id": "0bcdea69",
   "metadata": {},
   "outputs": [
    {
     "data": {
      "text/plain": [
       "0.826029385852845"
      ]
     },
     "execution_count": 34,
     "metadata": {},
     "output_type": "execute_result"
    }
   ],
   "source": [
    "car2_model.score(Xtest2, ytest2)"
   ]
  },
  {
   "cell_type": "markdown",
   "id": "9c3f9f9e",
   "metadata": {},
   "source": [
    "Nhận xét: Điểm trên tập train và tập test của mô hình car2 chấp nhận được. tuy nhiên việc loại bỏ thuộc tính định lượng có tương quan lớn khiến điểm của mô hình car2 thấp hơn so với mô hình car1."
   ]
  },
  {
   "cell_type": "code",
   "execution_count": 35,
   "id": "25660ad3",
   "metadata": {},
   "outputs": [],
   "source": [
    "#Bộ dữ liệu thử nghiệm 3 - Chỉ bao gồm 3 thuộc tính định lượng có mức tương quan lớn nhất tới giá xe\n",
    "car3=df_car.loc[:,('curbweight', 'enginesize','horsepower', 'price')]\n",
    "from sklearn.model_selection import train_test_split\n",
    "train_set3, test_set3 = train_test_split(car3, test_size = 0.2, random_state=42)"
   ]
  },
  {
   "cell_type": "code",
   "execution_count": 36,
   "id": "eca9af6d",
   "metadata": {},
   "outputs": [
    {
     "data": {
      "text/plain": [
       "price         1.000000\n",
       "enginesize    0.866433\n",
       "curbweight    0.824212\n",
       "horsepower    0.810986\n",
       "Name: price, dtype: float64"
      ]
     },
     "execution_count": 36,
     "metadata": {},
     "output_type": "execute_result"
    }
   ],
   "source": [
    "from scipy import  stats \n",
    "corr_matrix = train_set3.corr(numeric_only=True)\n",
    "corr_matrix\n",
    "corr_matrix['price'].sort_values(ascending = False)"
   ]
  },
  {
   "cell_type": "code",
   "execution_count": 37,
   "id": "d242dd7b",
   "metadata": {},
   "outputs": [
    {
     "data": {
      "text/plain": [
       "['curbweight - enginesize: 0.835858938076455',\n",
       " 'curbweight - horsepower: 0.726686555598216',\n",
       " 'enginesize - horsepower: 0.804452164061477']"
      ]
     },
     "execution_count": 37,
     "metadata": {},
     "output_type": "execute_result"
    }
   ],
   "source": [
    "# Kiểm định tương quan giữa các thuộc tính\n",
    "covar3=[]\n",
    "for i in range(0,len(train_set3.columns)-1,1):\n",
    "    for j in range(i,len(train_set3.columns)-1,1):\n",
    "        if i==j:\n",
    "            continue\n",
    "        r_coef, pl = pearsonr(train_set3[train_set3.columns[i]], train_set3[train_set3.columns[j]])\n",
    "        if abs(r_coef) >= 0.7:\n",
    "            covar3.append(f'{train_set3.columns[i]} - {train_set3.columns[j]}: {r_coef}')\n",
    "covar3"
   ]
  },
  {
   "cell_type": "code",
   "execution_count": 38,
   "id": "71aec52b",
   "metadata": {},
   "outputs": [
    {
     "data": {
      "text/html": [
       "<style>#sk-container-id-3 {color: black;background-color: white;}#sk-container-id-3 pre{padding: 0;}#sk-container-id-3 div.sk-toggleable {background-color: white;}#sk-container-id-3 label.sk-toggleable__label {cursor: pointer;display: block;width: 100%;margin-bottom: 0;padding: 0.3em;box-sizing: border-box;text-align: center;}#sk-container-id-3 label.sk-toggleable__label-arrow:before {content: \"▸\";float: left;margin-right: 0.25em;color: #696969;}#sk-container-id-3 label.sk-toggleable__label-arrow:hover:before {color: black;}#sk-container-id-3 div.sk-estimator:hover label.sk-toggleable__label-arrow:before {color: black;}#sk-container-id-3 div.sk-toggleable__content {max-height: 0;max-width: 0;overflow: hidden;text-align: left;background-color: #f0f8ff;}#sk-container-id-3 div.sk-toggleable__content pre {margin: 0.2em;color: black;border-radius: 0.25em;background-color: #f0f8ff;}#sk-container-id-3 input.sk-toggleable__control:checked~div.sk-toggleable__content {max-height: 200px;max-width: 100%;overflow: auto;}#sk-container-id-3 input.sk-toggleable__control:checked~label.sk-toggleable__label-arrow:before {content: \"▾\";}#sk-container-id-3 div.sk-estimator input.sk-toggleable__control:checked~label.sk-toggleable__label {background-color: #d4ebff;}#sk-container-id-3 div.sk-label input.sk-toggleable__control:checked~label.sk-toggleable__label {background-color: #d4ebff;}#sk-container-id-3 input.sk-hidden--visually {border: 0;clip: rect(1px 1px 1px 1px);clip: rect(1px, 1px, 1px, 1px);height: 1px;margin: -1px;overflow: hidden;padding: 0;position: absolute;width: 1px;}#sk-container-id-3 div.sk-estimator {font-family: monospace;background-color: #f0f8ff;border: 1px dotted black;border-radius: 0.25em;box-sizing: border-box;margin-bottom: 0.5em;}#sk-container-id-3 div.sk-estimator:hover {background-color: #d4ebff;}#sk-container-id-3 div.sk-parallel-item::after {content: \"\";width: 100%;border-bottom: 1px solid gray;flex-grow: 1;}#sk-container-id-3 div.sk-label:hover label.sk-toggleable__label {background-color: #d4ebff;}#sk-container-id-3 div.sk-serial::before {content: \"\";position: absolute;border-left: 1px solid gray;box-sizing: border-box;top: 0;bottom: 0;left: 50%;z-index: 0;}#sk-container-id-3 div.sk-serial {display: flex;flex-direction: column;align-items: center;background-color: white;padding-right: 0.2em;padding-left: 0.2em;position: relative;}#sk-container-id-3 div.sk-item {position: relative;z-index: 1;}#sk-container-id-3 div.sk-parallel {display: flex;align-items: stretch;justify-content: center;background-color: white;position: relative;}#sk-container-id-3 div.sk-item::before, #sk-container-id-3 div.sk-parallel-item::before {content: \"\";position: absolute;border-left: 1px solid gray;box-sizing: border-box;top: 0;bottom: 0;left: 50%;z-index: -1;}#sk-container-id-3 div.sk-parallel-item {display: flex;flex-direction: column;z-index: 1;position: relative;background-color: white;}#sk-container-id-3 div.sk-parallel-item:first-child::after {align-self: flex-end;width: 50%;}#sk-container-id-3 div.sk-parallel-item:last-child::after {align-self: flex-start;width: 50%;}#sk-container-id-3 div.sk-parallel-item:only-child::after {width: 0;}#sk-container-id-3 div.sk-dashed-wrapped {border: 1px dashed gray;margin: 0 0.4em 0.5em 0.4em;box-sizing: border-box;padding-bottom: 0.4em;background-color: white;}#sk-container-id-3 div.sk-label label {font-family: monospace;font-weight: bold;display: inline-block;line-height: 1.2em;}#sk-container-id-3 div.sk-label-container {text-align: center;}#sk-container-id-3 div.sk-container {/* jupyter's `normalize.less` sets `[hidden] { display: none; }` but bootstrap.min.css set `[hidden] { display: none !important; }` so we also need the `!important` here to be able to override the default hidden behavior on the sphinx rendered scikit-learn.org. See: https://github.com/scikit-learn/scikit-learn/issues/21755 */display: inline-block !important;position: relative;}#sk-container-id-3 div.sk-text-repr-fallback {display: none;}</style><div id=\"sk-container-id-3\" class=\"sk-top-container\"><div class=\"sk-text-repr-fallback\"><pre>LinearRegression()</pre><b>In a Jupyter environment, please rerun this cell to show the HTML representation or trust the notebook. <br />On GitHub, the HTML representation is unable to render, please try loading this page with nbviewer.org.</b></div><div class=\"sk-container\" hidden><div class=\"sk-item\"><div class=\"sk-estimator sk-toggleable\"><input class=\"sk-toggleable__control sk-hidden--visually\" id=\"sk-estimator-id-3\" type=\"checkbox\" checked><label for=\"sk-estimator-id-3\" class=\"sk-toggleable__label sk-toggleable__label-arrow\">LinearRegression</label><div class=\"sk-toggleable__content\"><pre>LinearRegression()</pre></div></div></div></div></div>"
      ],
      "text/plain": [
       "LinearRegression()"
      ]
     },
     "execution_count": 38,
     "metadata": {},
     "output_type": "execute_result"
    }
   ],
   "source": [
    "# Mô hình thử nghiệm car3\n",
    "Xtrain3=train_set3.iloc[:, :-1].values\n",
    "Xtest3=test_set3.iloc[:, :-1].values\n",
    "ytrain3=train_set3.iloc[:,-1]\n",
    "ytest3=test_set3.iloc[:,-1]\n",
    "#Tạo mô hình\n",
    "from sklearn.linear_model import LinearRegression\n",
    "car3_model = LinearRegression()\n",
    "car3_model.fit(Xtrain3, ytrain3.ravel())"
   ]
  },
  {
   "cell_type": "code",
   "execution_count": 39,
   "id": "0c109327",
   "metadata": {},
   "outputs": [
    {
     "data": {
      "text/plain": [
       "0.8107350093644984"
      ]
     },
     "execution_count": 39,
     "metadata": {},
     "output_type": "execute_result"
    }
   ],
   "source": [
    "car3_model.score(Xtrain3, ytrain3)"
   ]
  },
  {
   "cell_type": "code",
   "execution_count": 40,
   "id": "ef154a9d",
   "metadata": {},
   "outputs": [
    {
     "data": {
      "text/plain": [
       "0.8208130980062113"
      ]
     },
     "execution_count": 40,
     "metadata": {},
     "output_type": "execute_result"
    }
   ],
   "source": [
    "car3_model.score(Xtest3, ytest3)"
   ]
  },
  {
   "cell_type": "code",
   "execution_count": 41,
   "id": "7b75977e",
   "metadata": {},
   "outputs": [
    {
     "name": "stdout",
     "output_type": "stream",
     "text": [
      "The linear model is: \n",
      " price = -13153.1305233057 +      1167.3774033065897*curbweight + -87.3631171953496*enginesize + 3.867642590341374*horsepower\n"
     ]
    }
   ],
   "source": [
    "#KQ mô hình\n",
    "print(f'''The linear model is: \\n price = {car1_model.intercept_} +\\\n",
    "      {car1_model.coef_[0]}*curbweight + {car1_model.coef_[1]}*enginesize + {car1_model.coef_[3]}*horsepower''')"
   ]
  },
  {
   "cell_type": "markdown",
   "id": "96de2df2",
   "metadata": {},
   "source": [
    "Kết luận:\n",
    "- Dựa trên kết quả 3 mô hình thử nghiệm lựa chọn các tiêu chí tác động đến giá xe gồm: 'drivewheel','fuelsystem', 'enginesize', 'curbweight', 'horsepower','carwidth'\n",
    "- Việc loại bỏ các chỉ tiêu định lượng có tương quan cao lẫn nhau nhưng lại có tương quan lớn với giá xe khiến điểm của mô hình giảm sút\n",
    "- Loại bỏ các chỉ tiêu định tính nhưng có mức tương quan lớn tới giá xe khiến điểm của mô hình giảm sút\n",
    "- Việc chỉ giữ lại 3 tiêu chí định lượng khiến điểm của mô hình giảm tuy nhiên mức giảm ko đáng kể -> Cân nhắc để tối giản mô hình"
   ]
  },
  {
   "cell_type": "markdown",
   "id": "5aafecc2",
   "metadata": {},
   "source": [
    "## 5. Xử lý dữ liệu ngoại lai"
   ]
  },
  {
   "cell_type": "code",
   "execution_count": 42,
   "id": "c98b080f",
   "metadata": {},
   "outputs": [
    {
     "data": {
      "text/plain": [
       "<seaborn.axisgrid.FacetGrid at 0x2122c7735e0>"
      ]
     },
     "execution_count": 42,
     "metadata": {},
     "output_type": "execute_result"
    },
    {
     "data": {
      "image/png": "[encoded data removed]",
      "text/plain": [
       "<Figure size 500x500 with 1 Axes>"
      ]
     },
     "metadata": {},
     "output_type": "display_data"
    }
   ],
   "source": [
    "# Thử nghiệm kiểm tra và xử lý dữ liệu ngoại lai đối với các chỉ tiêu định lượng của mô hình car1\n",
    "#Kiểm tra dữ liệu ngoại lai đối với 3 thuộc tính enginesize, curbweight và horsepower\n",
    "#Trực quan bằng đồ thị\n",
    "sns.lmplot(x='price', y=\"enginesize\", data=train_set1)"
   ]
  },
  {
   "cell_type": "code",
   "execution_count": 43,
   "id": "233884bb",
   "metadata": {},
   "outputs": [
    {
     "data": {
      "text/plain": [
       "<Axes: ylabel='curbweight'>"
      ]
     },
     "execution_count": 43,
     "metadata": {},
     "output_type": "execute_result"
    },
    {
     "data": {
      "image/png": "[encoded data removed]",
      "text/plain": [
       "<Figure size 640x480 with 1 Axes>"
      ]
     },
     "metadata": {},
     "output_type": "display_data"
    }
   ],
   "source": [
    "sns.violinplot(y=train_set1[\"curbweight\"], palette=\"coolwarm\")"
   ]
  },
  {
   "cell_type": "code",
   "execution_count": 44,
   "id": "98c5ab3d",
   "metadata": {},
   "outputs": [
    {
     "data": {
      "text/plain": [
       "<seaborn.axisgrid.FacetGrid at 0x2122ca32da0>"
      ]
     },
     "execution_count": 44,
     "metadata": {},
     "output_type": "execute_result"
    },
    {
     "data": {
      "image/png": "[encoded data removed]",
      "text/plain": [
       "<Figure size 500x500 with 1 Axes>"
      ]
     },
     "metadata": {},
     "output_type": "display_data"
    }
   ],
   "source": [
    "sns.lmplot(x='price', y=\"horsepower\", data=train_set1)"
   ]
  },
  {
   "cell_type": "code",
   "execution_count": 45,
   "id": "90f86e21",
   "metadata": {},
   "outputs": [],
   "source": [
    "#Xử lý dữ liệu ngoại lai bằng IQR"
   ]
  },
  {
   "cell_type": "code",
   "execution_count": 46,
   "id": "44378360",
   "metadata": {},
   "outputs": [
    {
     "name": "stdout",
     "output_type": "stream",
     "text": [
      "curbweight    978.0\n",
      "enginesize     54.4\n",
      "horsepower     67.4\n",
      "dtype: float64\n"
     ]
    }
   ],
   "source": [
    "Q1 = train_set1.loc[:,('curbweight', 'enginesize','horsepower')] .quantile(0.2)\n",
    "Q3 = train_set1.loc[:,('curbweight', 'enginesize','horsepower')].quantile(0.8)\n",
    "IQR = Q3 - Q1\n",
    "print(IQR)"
   ]
  },
  {
   "cell_type": "code",
   "execution_count": 47,
   "id": "45976682",
   "metadata": {},
   "outputs": [
    {
     "name": "stdout",
     "output_type": "stream",
     "text": [
      "tỷ lệ dữ liệu bị loại bỏ nếu sử dung IQR: 4.46\n",
      "<class 'pandas.core.frame.DataFrame'>\n",
      "Int64Index: 157 entries, 66 to 102\n",
      "Data columns (total 6 columns):\n",
      " #   Column      Non-Null Count  Dtype  \n",
      "---  ------      --------------  -----  \n",
      " 0   drivewheel  157 non-null    int32  \n",
      " 1   fuelsystem  157 non-null    int32  \n",
      " 2   enginesize  157 non-null    int64  \n",
      " 3   curbweight  157 non-null    int64  \n",
      " 4   horsepower  157 non-null    int64  \n",
      " 5   price       157 non-null    float64\n",
      "dtypes: float64(1), int32(2), int64(3)\n",
      "memory usage: 7.4 KB\n"
     ]
    }
   ],
   "source": [
    "#Xem xét tỷ lệ dữ liệu bị loại bỏ nếu xử lý dữ liệu ngoại lai\n",
    "noise = train_set1[((train_set1.loc[:,('curbweight', 'enginesize','horsepower')] < (Q1 - 1.5 * IQR)) | (train_set1.loc[:,('curbweight', 'enginesize','horsepower')] > (Q3 + 1.5 *IQR))).any(axis=1)]\n",
    "train_set1= train_set1[~((train_set1.loc[:,('curbweight', 'enginesize','horsepower')] < (Q1 - 1.5 * IQR)) | (train_set1.loc[:,('curbweight', 'enginesize','horsepower')] > (Q3 + 1.5 *IQR))).any(axis=1)]\n",
    "print(f'tỷ lệ dữ liệu bị loại bỏ nếu sử dung IQR: {round(len(noise)/len(train_set1)*100,2)}')\n",
    "train_set1.info()"
   ]
  },
  {
   "cell_type": "code",
   "execution_count": 48,
   "id": "fd1da51d",
   "metadata": {},
   "outputs": [],
   "source": [
    "Xtrain4=train_set1.iloc[:, :-1].values\n",
    "Xtest4=test_set1.iloc[:, :-1].values\n",
    "ytrain4=train_set1.iloc[:,-1]\n",
    "ytest4=test_set1.iloc[:,-1]"
   ]
  },
  {
   "cell_type": "code",
   "execution_count": 49,
   "id": "e1673e7d",
   "metadata": {},
   "outputs": [
    {
     "name": "stdout",
     "output_type": "stream",
     "text": [
      " Điểm dữ liệu train: 0.7375756244363247\n",
      " Điểm dữ liệu test: 0.8068105889751405\n"
     ]
    }
   ],
   "source": [
    "#Tạo mô hình\n",
    "from sklearn.linear_model import LinearRegression\n",
    "car4_model = LinearRegression()\n",
    "car4_model.fit(Xtrain4, ytrain4.ravel())\n",
    "print(f' Điểm dữ liệu train: {car4_model.score(Xtrain4, ytrain4)}')\n",
    "print(f' Điểm dữ liệu test: {car4_model.score(Xtest4, ytest4)}')"
   ]
  },
  {
   "cell_type": "markdown",
   "id": "0f01c8a4",
   "metadata": {},
   "source": [
    "# Kết luận:\n",
    "## Các thuộc tính có ý nghĩa trong việc định giá xe hơi:\n",
    "- Có 3 thuộc tính có mức tương quan lớn với giá xe hơi gồm: 'enginesize', 'curbweight', 'horsepower' mô hình xây dựng dựa trên 3 thuộc tính này cho điểm dự báo trên bộ dữ liệu test tương đối cao score = 0,82646\n",
    "- Mô hình mở rộng dựa trên 5 thộc tính (4 thuộc tính định lượng và 1 thuộc tính định tính) gồm: 'drivewheel','fuelsystem', 'enginesize', 'curbweight', 'horsepower','carwidth' cho kết quả tốt nhất sau khi thử nghiệm. Điểm trên bộ dữ liệu train đạt 0.81898 và bộ dữ liệu test đạt 0.8349.\n",
    "- Việc thay thế các thuộc tính khác có tương quan thấp hơn không làm tăng điểm cho mô hình. Việc loại bỏ dữ liệu ngoại lai khiến điểm của mô hình giảm sút đáng kể.\n",
    "## Mối liên hệ giữa các thuộc tính với giá xe hơi:\n",
    "- Mối quan hệ giữa 5 thuộc tính và giá xe trong mô hình car1: \n",
    "The linear model is: \n",
    " price = -13153.1305233057 +      1167.3774033065897*drivewheel + -87.3631171953496*fuelsystem + \n",
    "      77.28686558971879*enginesize + 3.867642590341374*curbweight +      51.880107993888984*horsepower\n",
    "      \n",
    "- Mối quan hệ giữa 3 thuộc tính và giá xe trong mô hình car3:\n",
    "The linear model is: \n",
    " price = -13153.1305233057 +      1167.3774033065897*curbweight + -87.3631171953496*enginesize + 3.867642590341374*horsepower\n"
   ]
  },
  {
   "cell_type": "code",
   "execution_count": null,
   "id": "e854e818",
   "metadata": {},
   "outputs": [],
   "source": []
  }
 ],
 "metadata": {
  "kernelspec": {
   "display_name": "Python 3 (ipykernel)",
   "language": "python",
   "name": "python3"
  },
  "language_info": {
   "codemirror_mode": {
    "name": "ipython",
    "version": 3
   },
   "file_extension": ".py",
   "mimetype": "text/x-python",
   "name": "python",
   "nbconvert_exporter": "python",
   "pygments_lexer": "ipython3",
   "version": "3.10.9"
  }
 },
 "nbformat": 4,
 "nbformat_minor": 5
}
